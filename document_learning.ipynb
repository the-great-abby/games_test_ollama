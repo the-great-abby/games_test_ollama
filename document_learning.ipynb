{
 "cells": [
  {
   "cell_type": "markdown",
   "metadata": {},
   "source": [
    "https://www.youtube.com/watch?v=ztBJqzBU5kc"
   ]
  },
  {
   "cell_type": "code",
   "execution_count": 16,
   "metadata": {},
   "outputs": [],
   "source": [
    "\n",
    "vector_db_array = []"
   ]
  },
  {
   "cell_type": "markdown",
   "metadata": {},
   "source": [
    "# Functions"
   ]
  },
  {
   "cell_type": "code",
   "execution_count": 1,
   "metadata": {},
   "outputs": [],
   "source": [
    "import glob"
   ]
  },
  {
   "cell_type": "code",
   "execution_count": 2,
   "metadata": {},
   "outputs": [
    {
     "name": "stdout",
     "output_type": "stream",
     "text": [
      "['./docs/PZO2033E Interactive Maps.pdf', './docs/PZO2033 000 Cover.pdf', './docs/PZO2033 001-019.pdf', './docs/PZO2104E.pdf', './docs/PZO2101E-4th Printing.pdf', './docs/PZO1041E.pdf', './docs/PZO2102E.pdf']\n"
     ]
    }
   ],
   "source": [
    "path = './docs/**/*.pdf'\n",
    "file_list = glob.glob(path, recursive=True)\n",
    "print(file_list)"
   ]
  },
  {
   "cell_type": "code",
   "execution_count": 3,
   "metadata": {},
   "outputs": [],
   "source": [
    "embed_model=\"nomic-embed-text\""
   ]
  },
  {
   "cell_type": "code",
   "execution_count": 4,
   "metadata": {},
   "outputs": [],
   "source": [
    "def load_data(file_path):\n",
    "    # Load data from a file\n",
    "    loader = UnstructuredPDFLoader(file_path=file_path)\n",
    "    data = loader.load()\n",
    "    return data"
   ]
  },
  {
   "cell_type": "code",
   "execution_count": 5,
   "metadata": {},
   "outputs": [],
   "source": [
    "def new_file():\n",
    "    f = open(\"answer.txt\", \"w\")\n",
    "    f.close()"
   ]
  },
  {
   "cell_type": "code",
   "execution_count": 6,
   "metadata": {},
   "outputs": [],
   "source": [
    "new_file()"
   ]
  },
  {
   "cell_type": "code",
   "execution_count": 7,
   "metadata": {},
   "outputs": [],
   "source": [
    "def print_result(question, chain):\n",
    "    f = open(\"answer.txt\", \"a\")\n",
    "    f.write(f\"Question: {question}\\n\")\n",
    "    print(f\"Question: {question}\\n\")\n",
    "    f.write(\"==============================\\n\")\n",
    "    print(\"==============================\\n\")\n",
    "    answer = chain.invoke(question)\n",
    "    f.write(f\"{answer}\\n\")\n",
    "    f.write(\"==============================\\n\\n\")\n",
    "    print(answer)"
   ]
  },
  {
   "cell_type": "code",
   "execution_count": 8,
   "metadata": {},
   "outputs": [],
   "source": [
    "def data_reset(database):\n",
    "    # Delete all collections in the db\n",
    "    database.delete_collection()\n",
    "    # vector_db.delete_collection()\n"
   ]
  },
  {
   "cell_type": "markdown",
   "metadata": {},
   "source": [
    "# Ingest PDF"
   ]
  },
  {
   "cell_type": "code",
   "execution_count": 9,
   "metadata": {},
   "outputs": [
    {
     "name": "stdout",
     "output_type": "stream",
     "text": [
      "The following packages are already present in the pyproject.toml and will be skipped:\n",
      "\n",
      "  - \u001b[36munstructured\u001b[39m\n",
      "  - \u001b[36mlangchain\u001b[39m\n",
      "\n",
      "If you want to update it to the latest compatible version, you can use `poetry update package`.\n",
      "If you prefer to upgrade it to the latest available version, you can use `poetry add package@latest`.\n",
      "\n",
      "Nothing to add.\n",
      "Using version \u001b[39;1m^0.13.2\u001b[39;22m for \u001b[36munstructured\u001b[39m\n",
      "\n",
      "\u001b[34mUpdating dependencies\u001b[39m\n",
      "\u001b[2K\u001b[34mResolving dependencies...\u001b[39m \u001b[39;2m(0.4s)\u001b[39;22m\n",
      "\n",
      "No dependencies to install or update\n"
     ]
    }
   ],
   "source": [
    "# !pip install --q unstructured langchain\n",
    "# !pip install --\"unstructured[all-docs]\"\n",
    "!poetry add unstructured langchain\n",
    "!poetry add \"unstructured[all-docs]\""
   ]
  },
  {
   "cell_type": "code",
   "execution_count": 10,
   "metadata": {},
   "outputs": [],
   "source": [
    "from langchain_community.document_loaders import UnstructuredPDFLoader\n",
    "from langchain_community.document_loaders import OnlinePDFLoader"
   ]
  },
  {
   "cell_type": "code",
   "execution_count": 11,
   "metadata": {},
   "outputs": [
    {
     "name": "stdout",
     "output_type": "stream",
     "text": [
      "\u001b[?25lpulling manifest ⠋ \u001b[?25h\u001b[?25l\u001b[2K\u001b[1Gpulling manifest ⠙ \u001b[?25h\u001b[?25l\u001b[2K\u001b[1Gpulling manifest ⠹ \u001b[?25h\u001b[?25l\u001b[2K\u001b[1Gpulling manifest ⠸ \u001b[?25h\u001b[?25l\u001b[2K\u001b[1Gpulling manifest ⠼ \u001b[?25h\u001b[?25l\u001b[2K\u001b[1Gpulling manifest ⠴ \u001b[?25h\u001b[?25l\u001b[2K\u001b[1Gpulling manifest ⠦ \u001b[?25h\u001b[?25l\u001b[2K\u001b[1Gpulling manifest \n",
      "pulling 970aa74c0a90... 100% ▕████████████████▏ 274 MB                         \n",
      "pulling c71d239df917... 100% ▕████████████████▏  11 KB                         \n",
      "pulling ce4a164fc046... 100% ▕████████████████▏   17 B                         \n",
      "pulling 31df23ea7daa... 100% ▕████████████████▏  420 B                         \n",
      "verifying sha256 digest ⠋ \u001b[?25h\u001b[?25l\u001b[2K\u001b[1G\u001b[A\u001b[2K\u001b[1G\u001b[A\u001b[2K\u001b[1G\u001b[A\u001b[2K\u001b[1G\u001b[A\u001b[2K\u001b[1G\u001b[A\u001b[2K\u001b[1Gpulling manifest \n",
      "pulling 970aa74c0a90... 100% ▕████████████████▏ 274 MB                         \n",
      "pulling c71d239df917... 100% ▕████████████████▏  11 KB                         \n",
      "pulling ce4a164fc046... 100% ▕████████████████▏   17 B                         \n",
      "pulling 31df23ea7daa... 100% ▕████████████████▏  420 B                         \n",
      "verifying sha256 digest ⠙ \u001b[?25h\u001b[?25l\u001b[2K\u001b[1G\u001b[A\u001b[2K\u001b[1G\u001b[A\u001b[2K\u001b[1G\u001b[A\u001b[2K\u001b[1G\u001b[A\u001b[2K\u001b[1G\u001b[A\u001b[2K\u001b[1Gpulling manifest \n",
      "pulling 970aa74c0a90... 100% ▕████████████████▏ 274 MB                         \n",
      "pulling c71d239df917... 100% ▕████████████████▏  11 KB                         \n",
      "pulling ce4a164fc046... 100% ▕████████████████▏   17 B                         \n",
      "pulling 31df23ea7daa... 100% ▕████████████████▏  420 B                         \n",
      "verifying sha256 digest ⠹ \u001b[?25h\u001b[?25l\u001b[2K\u001b[1G\u001b[A\u001b[2K\u001b[1G\u001b[A\u001b[2K\u001b[1G\u001b[A\u001b[2K\u001b[1G\u001b[A\u001b[2K\u001b[1G\u001b[A\u001b[2K\u001b[1Gpulling manifest \n",
      "pulling 970aa74c0a90... 100% ▕████████████████▏ 274 MB                         \n",
      "pulling c71d239df917... 100% ▕████████████████▏  11 KB                         \n",
      "pulling ce4a164fc046... 100% ▕████████████████▏   17 B                         \n",
      "pulling 31df23ea7daa... 100% ▕████████████████▏  420 B                         \n",
      "verifying sha256 digest \n",
      "writing manifest \n",
      "removing any unused layers \n",
      "success \u001b[?25h\n"
     ]
    }
   ],
   "source": [
    "!ollama pull {embed_model} "
   ]
  },
  {
   "cell_type": "code",
   "execution_count": 12,
   "metadata": {},
   "outputs": [
    {
     "name": "stdout",
     "output_type": "stream",
     "text": [
      "NAME                    \tID          \tSIZE  \tMODIFIED      \n",
      "codellama:34b           \t685be00e1532\t19 GB \t5 days ago   \t\n",
      "llama2:latest           \t78e26419b446\t3.8 GB\t2 weeks ago  \t\n",
      "llama2-uncensored:latest\t44040b922233\t3.8 GB\t12 days ago  \t\n",
      "mistral:latest          \t61e88e884507\t4.1 GB\t2 weeks ago  \t\n",
      "mixtral:latest          \t7708c059a8bb\t26 GB \t5 days ago   \t\n",
      "nomic-embed-text:latest \t0a109f422b47\t274 MB\t2 seconds ago\t\n",
      "openhermes:latest       \t95477a2659b7\t4.1 GB\t11 days ago  \t\n"
     ]
    }
   ],
   "source": [
    "!ollama list"
   ]
  },
  {
   "cell_type": "code",
   "execution_count": 13,
   "metadata": {},
   "outputs": [
    {
     "name": "stdout",
     "output_type": "stream",
     "text": [
      "The following packages are already present in the pyproject.toml and will be skipped:\n",
      "\n",
      "  - \u001b[36mchromadb\u001b[39m\n",
      "  - \u001b[36mlangchain-text-splitters\u001b[39m\n",
      "\n",
      "If you want to update it to the latest compatible version, you can use `poetry update package`.\n",
      "If you prefer to upgrade it to the latest available version, you can use `poetry add package@latest`.\n",
      "\n",
      "Nothing to add.\n"
     ]
    }
   ],
   "source": [
    "# !pip install --q chromadb\n",
    "# !pip install --q langchain-text-splitters\n",
    "!poetry add chromadb langchain-text-splitters"
   ]
  },
  {
   "cell_type": "code",
   "execution_count": 14,
   "metadata": {},
   "outputs": [],
   "source": [
    "from langchain_community.embeddings import OllamaEmbeddings\n",
    "from langchain_text_splitters import RecursiveCharacterTextSplitter\n",
    "from langchain_community.vectorstores import Chroma"
   ]
  },
  {
   "cell_type": "code",
   "execution_count": 15,
   "metadata": {},
   "outputs": [],
   "source": [
    "# Split and chunk \n",
    "text_splitter = RecursiveCharacterTextSplitter(chunk_size=7500, chunk_overlap=100)\n"
   ]
  },
  {
   "cell_type": "markdown",
   "metadata": {},
   "source": [
    "# Define a file list"
   ]
  },
  {
   "cell_type": "markdown",
   "metadata": {},
   "source": [
    "# Back to the show"
   ]
  },
  {
   "cell_type": "code",
   "execution_count": 17,
   "metadata": {},
   "outputs": [
    {
     "name": "stderr",
     "output_type": "stream",
     "text": [
      "OllamaEmbeddings: 100%|██████████| 1/1 [00:01<00:00,  1.59s/it]\n",
      "OllamaEmbeddings: 100%|██████████| 1/1 [00:00<00:00,  9.29it/s]\n",
      "OllamaEmbeddings: 100%|██████████| 11/11 [00:04<00:00,  2.45it/s]\n",
      "OllamaEmbeddings: 100%|██████████| 170/170 [01:17<00:00,  2.19it/s]\n",
      "OllamaEmbeddings: 100%|██████████| 414/414 [02:48<00:00,  2.45it/s]\n",
      "OllamaEmbeddings: 100%|██████████| 12/12 [00:04<00:00,  2.91it/s]\n",
      "OllamaEmbeddings: 100%|██████████| 194/194 [01:26<00:00,  2.25it/s]\n"
     ]
    }
   ],
   "source": [
    "\n",
    "for (i, file) in enumerate(file_list):\n",
    "  data = load_data(file)\n",
    "  chunks = text_splitter.split_documents(data)\n",
    "  vector_db_array.append(\n",
    "    Chroma.from_documents(\n",
    "      # documents=data, \n",
    "      documents=chunks, \n",
    "      embedding=OllamaEmbeddings(model=f\"{embed_model}\",show_progress=True),\n",
    "      collection_name=f\"local-rag-{i}\"\n",
    "    )\n",
    "  )\n",
    "  #loader = UnstructuredPDFLoader(file_path=file)\n",
    "  #data = loader.load()\n",
    "  #print(f\"File {i+1} loaded\")"
   ]
  },
  {
   "cell_type": "markdown",
   "metadata": {},
   "source": [
    "## Retrieval"
   ]
  },
  {
   "cell_type": "code",
   "execution_count": 18,
   "metadata": {},
   "outputs": [],
   "source": [
    "from langchain.prompts import ChatPromptTemplate, PromptTemplate\n",
    "from langchain_core.output_parsers import StrOutputParser\n",
    "from langchain_community.chat_models import ChatOllama\n",
    "from langchain_core.runnables import RunnablePassthrough\n",
    "from langchain.retrievers.multi_query import MultiQueryRetriever"
   ]
  },
  {
   "cell_type": "code",
   "execution_count": 19,
   "metadata": {},
   "outputs": [],
   "source": [
    "# LLM from Ollama\n",
    "local_model = \"mistral\"\n",
    "llm = ChatOllama(model=local_model)"
   ]
  },
  {
   "cell_type": "code",
   "execution_count": null,
   "metadata": {},
   "outputs": [],
   "source": [
    "QUERY_PROMPT = PromptTemplate(\n",
    "    input_variables=[\"question\"],\n",
    "    template=\"\"\"You are an AI language model assistant. Your task is to generate five\n",
    "    different versions of the given user question to retrieve relevant documents from\n",
    "    a vector database. By generating multiple perspectives on the user question, your\n",
    "    goal is to help the user overcome some of the limitations of the distance-based\n",
    "    similarity search. Provide these alternative questions separated by newlines. \n",
    "    Provide page numbers and full stats whenever possible.\n",
    "    Original question: {question}\"\"\",\n",
    ")"
   ]
  },
  {
   "cell_type": "code",
   "execution_count": 20,
   "metadata": {},
   "outputs": [],
   "source": [
    "QUERY_PROMPT = PromptTemplate(\n",
    "    input_variables=[\"question\"],\n",
    "    template=\"\"\"You are the dungeon master, and I am here to play a role playing game. \n",
    "    Your task is to manage the story as described in `PZO2033*.pdf` and to help \n",
    "    guide me through the campaign to reach the end of `PZO2033 001-019.pdf`. Do your best to generate\n",
    "    five different versions of the given user question to retrieve relevant documents from\n",
    "    a vector database. By generating multiple perspectives on the user question, your\n",
    "    goal is to help the user overcome some of the limitations of the distance-based\n",
    "    similarity search. Roll a 1d20 (random 1-20), to determine stats for attacks and defense. \n",
    "    Provide page numbers and full stats whenever possible.\n",
    "    Original question: {question}\"\"\",\n",
    ")"
   ]
  },
  {
   "cell_type": "code",
   "execution_count": 21,
   "metadata": {},
   "outputs": [],
   "source": [
    "\n",
    "# RAG prompt\n",
    "template = \"\"\"Answer the question based ONLY on the following context:\n",
    "{context}\n",
    "Question: {question}\n",
    "\"\"\"\n",
    "\n",
    "prompt = ChatPromptTemplate.from_template(template)"
   ]
  },
  {
   "cell_type": "code",
   "execution_count": 22,
   "metadata": {},
   "outputs": [],
   "source": [
    "from langchain.retrievers import EnsembleRetriever"
   ]
  },
  {
   "cell_type": "code",
   "execution_count": 23,
   "metadata": {},
   "outputs": [
    {
     "name": "stdout",
     "output_type": "stream",
     "text": [
      "Adding retriever for <langchain_community.vectorstores.chroma.Chroma object at 0x12e3e3a50>\n",
      "Adding retriever for <langchain_community.vectorstores.chroma.Chroma object at 0x30ba5c190>\n",
      "Adding retriever for <langchain_community.vectorstores.chroma.Chroma object at 0x30f6e5050>\n",
      "Adding retriever for <langchain_community.vectorstores.chroma.Chroma object at 0x310bdbe90>\n",
      "Adding retriever for <langchain_community.vectorstores.chroma.Chroma object at 0x315fd0390>\n",
      "Adding retriever for <langchain_community.vectorstores.chroma.Chroma object at 0x316a49410>\n",
      "Adding retriever for <langchain_community.vectorstores.chroma.Chroma object at 0x319da1710>\n"
     ]
    }
   ],
   "source": [
    "retrievers = []\n",
    "for db in vector_db_array:\n",
    "  print(f\"Adding retriever for {db}\")\n",
    "  retriever = MultiQueryRetriever.from_llm(db.as_retriever(), llm, prompt=QUERY_PROMPT)\n",
    "  retrievers.append(retriever)\n",
    "\n"
   ]
  },
  {
   "cell_type": "code",
   "execution_count": 24,
   "metadata": {},
   "outputs": [],
   "source": [
    "retriever = EnsembleRetriever(retrievers=retrievers)"
   ]
  },
  {
   "cell_type": "code",
   "execution_count": 25,
   "metadata": {},
   "outputs": [],
   "source": [
    "chain = (\n",
    "    {\"context\": retriever, \"question\": RunnablePassthrough()}\n",
    "    | prompt\n",
    "    | llm\n",
    "    | StrOutputParser()\n",
    ")"
   ]
  },
  {
   "cell_type": "code",
   "execution_count": 26,
   "metadata": {},
   "outputs": [
    {
     "name": "stdout",
     "output_type": "stream",
     "text": [
      "Question: What is the story about?\n",
      "\n",
      "==============================\n",
      "\n"
     ]
    },
    {
     "name": "stderr",
     "output_type": "stream",
     "text": [
      "OllamaEmbeddings: 100%|██████████| 1/1 [00:00<00:00,  1.67it/s]\n",
      "Number of requested results 4 is greater than number of elements in index 1, updating n_results = 1\n",
      "OllamaEmbeddings: 100%|██████████| 1/1 [00:00<00:00, 55.40it/s]\n",
      "Number of requested results 4 is greater than number of elements in index 1, updating n_results = 1\n",
      "OllamaEmbeddings: 100%|██████████| 1/1 [00:00<00:00, 47.43it/s]\n",
      "Number of requested results 4 is greater than number of elements in index 1, updating n_results = 1\n",
      "OllamaEmbeddings: 100%|██████████| 1/1 [00:00<00:00, 55.15it/s]\n",
      "Number of requested results 4 is greater than number of elements in index 1, updating n_results = 1\n",
      "OllamaEmbeddings: 100%|██████████| 1/1 [00:00<00:00, 53.79it/s]\n",
      "Number of requested results 4 is greater than number of elements in index 1, updating n_results = 1\n",
      "OllamaEmbeddings: 100%|██████████| 1/1 [00:00<00:00, 82.37it/s]\n",
      "Number of requested results 4 is greater than number of elements in index 1, updating n_results = 1\n",
      "OllamaEmbeddings: 100%|██████████| 1/1 [00:00<00:00, 47.58it/s]\n",
      "Number of requested results 4 is greater than number of elements in index 1, updating n_results = 1\n",
      "OllamaEmbeddings: 100%|██████████| 1/1 [00:00<00:00, 59.59it/s]\n",
      "Number of requested results 4 is greater than number of elements in index 1, updating n_results = 1\n",
      "OllamaEmbeddings: 100%|██████████| 1/1 [00:00<00:00, 50.90it/s]\n",
      "Number of requested results 4 is greater than number of elements in index 1, updating n_results = 1\n",
      "OllamaEmbeddings: 100%|██████████| 1/1 [00:00<00:00, 76.18it/s]\n",
      "Number of requested results 4 is greater than number of elements in index 1, updating n_results = 1\n",
      "OllamaEmbeddings: 100%|██████████| 1/1 [00:00<00:00, 60.89it/s]\n",
      "Number of requested results 4 is greater than number of elements in index 1, updating n_results = 1\n",
      "OllamaEmbeddings: 100%|██████████| 1/1 [00:00<00:00, 67.42it/s]\n",
      "Number of requested results 4 is greater than number of elements in index 1, updating n_results = 1\n",
      "OllamaEmbeddings: 100%|██████████| 1/1 [00:00<00:00, 65.75it/s]\n",
      "Number of requested results 4 is greater than number of elements in index 1, updating n_results = 1\n",
      "OllamaEmbeddings: 100%|██████████| 1/1 [00:00<00:00, 57.87it/s]\n",
      "Number of requested results 4 is greater than number of elements in index 1, updating n_results = 1\n",
      "OllamaEmbeddings: 100%|██████████| 1/1 [00:00<00:00, 64.28it/s]\n",
      "Number of requested results 4 is greater than number of elements in index 1, updating n_results = 1\n",
      "OllamaEmbeddings: 100%|██████████| 1/1 [00:00<00:00, 56.08it/s]\n",
      "Number of requested results 4 is greater than number of elements in index 1, updating n_results = 1\n",
      "OllamaEmbeddings: 100%|██████████| 1/1 [00:00<00:00, 63.52it/s]\n",
      "Number of requested results 4 is greater than number of elements in index 1, updating n_results = 1\n",
      "OllamaEmbeddings: 100%|██████████| 1/1 [00:00<00:00, 62.75it/s]\n",
      "Number of requested results 4 is greater than number of elements in index 1, updating n_results = 1\n",
      "OllamaEmbeddings: 100%|██████████| 1/1 [00:00<00:00, 61.45it/s]\n",
      "Number of requested results 4 is greater than number of elements in index 1, updating n_results = 1\n",
      "OllamaEmbeddings: 100%|██████████| 1/1 [00:00<00:00, 66.24it/s]\n",
      "Number of requested results 4 is greater than number of elements in index 1, updating n_results = 1\n",
      "OllamaEmbeddings: 100%|██████████| 1/1 [00:00<00:00, 67.01it/s]\n",
      "Number of requested results 4 is greater than number of elements in index 1, updating n_results = 1\n",
      "OllamaEmbeddings: 100%|██████████| 1/1 [00:00<00:00, 51.01it/s]\n",
      "Number of requested results 4 is greater than number of elements in index 1, updating n_results = 1\n",
      "OllamaEmbeddings: 100%|██████████| 1/1 [00:00<00:00, 49.99it/s]\n",
      "Number of requested results 4 is greater than number of elements in index 1, updating n_results = 1\n",
      "OllamaEmbeddings: 100%|██████████| 1/1 [00:00<00:00,  1.61it/s]\n",
      "Number of requested results 4 is greater than number of elements in index 1, updating n_results = 1\n",
      "OllamaEmbeddings: 100%|██████████| 1/1 [00:00<00:00, 76.41it/s]\n",
      "Number of requested results 4 is greater than number of elements in index 1, updating n_results = 1\n",
      "OllamaEmbeddings: 100%|██████████| 1/1 [00:00<00:00, 36.46it/s]\n",
      "Number of requested results 4 is greater than number of elements in index 1, updating n_results = 1\n",
      "OllamaEmbeddings: 100%|██████████| 1/1 [00:00<00:00, 85.84it/s]\n",
      "Number of requested results 4 is greater than number of elements in index 1, updating n_results = 1\n",
      "OllamaEmbeddings: 100%|██████████| 1/1 [00:00<00:00, 38.00it/s]\n",
      "Number of requested results 4 is greater than number of elements in index 1, updating n_results = 1\n",
      "OllamaEmbeddings: 100%|██████████| 1/1 [00:00<00:00, 82.44it/s]\n",
      "Number of requested results 4 is greater than number of elements in index 1, updating n_results = 1\n",
      "OllamaEmbeddings: 100%|██████████| 1/1 [00:00<00:00, 34.35it/s]\n",
      "Number of requested results 4 is greater than number of elements in index 1, updating n_results = 1\n",
      "OllamaEmbeddings: 100%|██████████| 1/1 [00:00<00:00, 83.19it/s]\n",
      "Number of requested results 4 is greater than number of elements in index 1, updating n_results = 1\n",
      "OllamaEmbeddings: 100%|██████████| 1/1 [00:00<00:00, 31.82it/s]\n",
      "Number of requested results 4 is greater than number of elements in index 1, updating n_results = 1\n",
      "OllamaEmbeddings: 100%|██████████| 1/1 [00:00<00:00, 73.37it/s]\n",
      "Number of requested results 4 is greater than number of elements in index 1, updating n_results = 1\n",
      "OllamaEmbeddings: 100%|██████████| 1/1 [00:00<00:00, 47.65it/s]\n",
      "Number of requested results 4 is greater than number of elements in index 1, updating n_results = 1\n",
      "OllamaEmbeddings: 100%|██████████| 1/1 [00:00<00:00, 72.83it/s]\n",
      "Number of requested results 4 is greater than number of elements in index 1, updating n_results = 1\n",
      "OllamaEmbeddings: 100%|██████████| 1/1 [00:00<00:00, 49.18it/s]\n",
      "Number of requested results 4 is greater than number of elements in index 1, updating n_results = 1\n",
      "OllamaEmbeddings: 100%|██████████| 1/1 [00:00<00:00,  1.67it/s]\n",
      "OllamaEmbeddings: 100%|██████████| 1/1 [00:00<00:00, 78.27it/s]\n",
      "OllamaEmbeddings: 100%|██████████| 1/1 [00:00<00:00, 48.71it/s]\n",
      "OllamaEmbeddings: 100%|██████████| 1/1 [00:00<00:00, 83.98it/s]\n",
      "OllamaEmbeddings: 100%|██████████| 1/1 [00:00<00:00, 38.61it/s]\n",
      "OllamaEmbeddings: 100%|██████████| 1/1 [00:00<00:00, 82.75it/s]\n",
      "OllamaEmbeddings: 100%|██████████| 1/1 [00:00<00:00, 47.29it/s]\n",
      "OllamaEmbeddings: 100%|██████████| 1/1 [00:00<00:00, 74.52it/s]\n",
      "OllamaEmbeddings: 100%|██████████| 1/1 [00:00<00:00, 37.85it/s]\n",
      "OllamaEmbeddings: 100%|██████████| 1/1 [00:00<00:00, 76.02it/s]\n",
      "OllamaEmbeddings: 100%|██████████| 1/1 [00:00<00:00, 58.61it/s]\n",
      "OllamaEmbeddings: 100%|██████████| 1/1 [00:00<00:00, 43.52it/s]\n",
      "OllamaEmbeddings: 100%|██████████| 1/1 [00:00<00:00,  1.67it/s]\n",
      "OllamaEmbeddings: 100%|██████████| 1/1 [00:00<00:00, 58.49it/s]\n",
      "OllamaEmbeddings: 100%|██████████| 1/1 [00:00<00:00, 55.88it/s]\n",
      "OllamaEmbeddings: 100%|██████████| 1/1 [00:00<00:00, 50.61it/s]\n",
      "OllamaEmbeddings: 100%|██████████| 1/1 [00:00<00:00, 50.25it/s]\n",
      "OllamaEmbeddings: 100%|██████████| 1/1 [00:00<00:00, 75.78it/s]\n",
      "OllamaEmbeddings: 100%|██████████| 1/1 [00:00<00:00, 65.93it/s]\n",
      "OllamaEmbeddings: 100%|██████████| 1/1 [00:00<00:00,  1.69it/s]\n",
      "OllamaEmbeddings: 100%|██████████| 1/1 [00:00<00:00, 49.25it/s]\n",
      "OllamaEmbeddings: 100%|██████████| 1/1 [00:00<00:00, 54.32it/s]\n",
      "OllamaEmbeddings: 100%|██████████| 1/1 [00:00<00:00, 52.67it/s]\n",
      "OllamaEmbeddings: 100%|██████████| 1/1 [00:00<00:00, 51.08it/s]\n",
      "OllamaEmbeddings: 100%|██████████| 1/1 [00:00<00:00, 84.96it/s]\n",
      "OllamaEmbeddings: 100%|██████████| 1/1 [00:00<00:00, 50.80it/s]\n",
      "OllamaEmbeddings: 100%|██████████| 1/1 [00:00<00:00,  1.67it/s]\n",
      "OllamaEmbeddings: 100%|██████████| 1/1 [00:00<00:00, 45.94it/s]\n",
      "OllamaEmbeddings: 100%|██████████| 1/1 [00:00<00:00, 52.16it/s]\n",
      "OllamaEmbeddings: 100%|██████████| 1/1 [00:00<00:00, 48.01it/s]\n",
      "OllamaEmbeddings: 100%|██████████| 1/1 [00:00<00:00, 44.10it/s]\n",
      "OllamaEmbeddings: 100%|██████████| 1/1 [00:00<00:00, 82.05it/s]\n",
      "OllamaEmbeddings: 100%|██████████| 1/1 [00:00<00:00, 26.60it/s]\n",
      "OllamaEmbeddings: 100%|██████████| 1/1 [00:00<00:00,  1.67it/s]\n",
      "OllamaEmbeddings: 100%|██████████| 1/1 [00:00<00:00, 47.29it/s]\n",
      "OllamaEmbeddings: 100%|██████████| 1/1 [00:00<00:00, 46.66it/s]\n",
      "OllamaEmbeddings: 100%|██████████| 1/1 [00:00<00:00, 50.10it/s]\n",
      "OllamaEmbeddings: 100%|██████████| 1/1 [00:00<00:00, 49.57it/s]\n",
      "OllamaEmbeddings: 100%|██████████| 1/1 [00:00<00:00, 84.16it/s]\n",
      "OllamaEmbeddings: 100%|██████████| 1/1 [00:00<00:00, 39.20it/s]\n",
      "OllamaEmbeddings: 100%|██████████| 1/1 [00:00<00:00, 82.39it/s]\n",
      "OllamaEmbeddings: 100%|██████████| 1/1 [00:00<00:00, 53.60it/s]\n"
     ]
    },
    {
     "name": "stdout",
     "output_type": "stream",
     "text": [
      " The text appears to be excerpts from a rulebook for the tabletop role-playing game \"Pathfinder.\" It includes information about various types of shields, as well as rules and guidelines for using weapons in the game. There doesn't seem to be an overarching story present in these particular passages. The text is written in a formal, instructional tone and appears to be intended to help players understand and apply the rules related to shields and weapons in Pathfinder.\n"
     ]
    }
   ],
   "source": [
    "print_result(\"What is the story about?\", chain)"
   ]
  },
  {
   "cell_type": "code",
   "execution_count": 27,
   "metadata": {},
   "outputs": [
    {
     "name": "stdout",
     "output_type": "stream",
     "text": [
      "Question: Tell me the campaign overview in PZO2033 001-019.pdf\n",
      "\n",
      "==============================\n",
      "\n"
     ]
    },
    {
     "name": "stderr",
     "output_type": "stream",
     "text": [
      "OllamaEmbeddings: 100%|██████████| 1/1 [00:00<00:00,  1.65it/s]\n",
      "Number of requested results 4 is greater than number of elements in index 1, updating n_results = 1\n",
      "OllamaEmbeddings: 100%|██████████| 1/1 [00:00<00:00, 42.32it/s]\n",
      "Number of requested results 4 is greater than number of elements in index 1, updating n_results = 1\n",
      "OllamaEmbeddings: 100%|██████████| 1/1 [00:00<00:00, 49.45it/s]\n",
      "Number of requested results 4 is greater than number of elements in index 1, updating n_results = 1\n",
      "OllamaEmbeddings: 100%|██████████| 1/1 [00:00<00:00, 50.41it/s]\n",
      "Number of requested results 4 is greater than number of elements in index 1, updating n_results = 1\n",
      "OllamaEmbeddings: 100%|██████████| 1/1 [00:00<00:00, 46.72it/s]\n",
      "Number of requested results 4 is greater than number of elements in index 1, updating n_results = 1\n",
      "OllamaEmbeddings: 100%|██████████| 1/1 [00:00<00:00, 68.43it/s]\n",
      "Number of requested results 4 is greater than number of elements in index 1, updating n_results = 1\n",
      "OllamaEmbeddings: 100%|██████████| 1/1 [00:00<00:00, 65.07it/s]\n",
      "Number of requested results 4 is greater than number of elements in index 1, updating n_results = 1\n",
      "OllamaEmbeddings: 100%|██████████| 1/1 [00:00<00:00, 74.34it/s]\n",
      "Number of requested results 4 is greater than number of elements in index 1, updating n_results = 1\n",
      "OllamaEmbeddings: 100%|██████████| 1/1 [00:00<00:00, 67.91it/s]\n",
      "Number of requested results 4 is greater than number of elements in index 1, updating n_results = 1\n",
      "OllamaEmbeddings: 100%|██████████| 1/1 [00:00<00:00, 63.19it/s]\n",
      "Number of requested results 4 is greater than number of elements in index 1, updating n_results = 1\n",
      "OllamaEmbeddings: 100%|██████████| 1/1 [00:00<00:00, 62.34it/s]\n",
      "Number of requested results 4 is greater than number of elements in index 1, updating n_results = 1\n",
      "OllamaEmbeddings: 100%|██████████| 1/1 [00:00<00:00, 59.52it/s]\n",
      "Number of requested results 4 is greater than number of elements in index 1, updating n_results = 1\n",
      "OllamaEmbeddings: 100%|██████████| 1/1 [00:00<00:00, 66.76it/s]\n",
      "Number of requested results 4 is greater than number of elements in index 1, updating n_results = 1\n",
      "OllamaEmbeddings: 100%|██████████| 1/1 [00:00<00:00, 65.52it/s]\n",
      "Number of requested results 4 is greater than number of elements in index 1, updating n_results = 1\n",
      "OllamaEmbeddings: 100%|██████████| 1/1 [00:00<00:00, 66.07it/s]\n",
      "Number of requested results 4 is greater than number of elements in index 1, updating n_results = 1\n",
      "OllamaEmbeddings: 100%|██████████| 1/1 [00:00<00:00, 39.01it/s]\n",
      "Number of requested results 4 is greater than number of elements in index 1, updating n_results = 1\n",
      "OllamaEmbeddings: 100%|██████████| 1/1 [00:00<00:00,  1.68it/s]\n",
      "Number of requested results 4 is greater than number of elements in index 1, updating n_results = 1\n",
      "OllamaEmbeddings: 100%|██████████| 1/1 [00:00<00:00, 49.60it/s]\n",
      "Number of requested results 4 is greater than number of elements in index 1, updating n_results = 1\n",
      "OllamaEmbeddings: 100%|██████████| 1/1 [00:00<00:00, 49.17it/s]\n",
      "Number of requested results 4 is greater than number of elements in index 1, updating n_results = 1\n",
      "OllamaEmbeddings: 100%|██████████| 1/1 [00:00<00:00, 48.94it/s]\n",
      "Number of requested results 4 is greater than number of elements in index 1, updating n_results = 1\n",
      "OllamaEmbeddings: 100%|██████████| 1/1 [00:00<00:00, 46.42it/s]\n",
      "Number of requested results 4 is greater than number of elements in index 1, updating n_results = 1\n",
      "OllamaEmbeddings: 100%|██████████| 1/1 [00:00<00:00, 88.03it/s]\n",
      "Number of requested results 4 is greater than number of elements in index 1, updating n_results = 1\n",
      "OllamaEmbeddings: 100%|██████████| 1/1 [00:00<00:00, 52.25it/s]\n",
      "Number of requested results 4 is greater than number of elements in index 1, updating n_results = 1\n",
      "OllamaEmbeddings: 100%|██████████| 1/1 [00:00<00:00,  1.69it/s]\n",
      "OllamaEmbeddings: 100%|██████████| 1/1 [00:00<00:00, 40.08it/s]\n",
      "OllamaEmbeddings: 100%|██████████| 1/1 [00:00<00:00, 35.42it/s]\n",
      "OllamaEmbeddings: 100%|██████████| 1/1 [00:00<00:00, 49.92it/s]\n",
      "OllamaEmbeddings: 100%|██████████| 1/1 [00:00<00:00, 50.69it/s]\n",
      "OllamaEmbeddings: 100%|██████████| 1/1 [00:00<00:00, 36.28it/s]\n",
      "OllamaEmbeddings: 100%|██████████| 1/1 [00:00<00:00, 49.26it/s]\n",
      "OllamaEmbeddings: 100%|██████████| 1/1 [00:00<00:00, 58.69it/s]\n",
      "OllamaEmbeddings: 100%|██████████| 1/1 [00:00<00:00, 59.20it/s]\n",
      "OllamaEmbeddings: 100%|██████████| 1/1 [00:00<00:00, 70.83it/s]\n",
      "OllamaEmbeddings: 100%|██████████| 1/1 [00:00<00:00, 68.73it/s]\n",
      "OllamaEmbeddings: 100%|██████████| 1/1 [00:00<00:00, 72.22it/s]\n",
      "OllamaEmbeddings: 100%|██████████| 1/1 [00:00<00:00, 70.86it/s]\n",
      "OllamaEmbeddings: 100%|██████████| 1/1 [00:00<00:00, 67.92it/s]\n",
      "OllamaEmbeddings: 100%|██████████| 1/1 [00:00<00:00, 70.45it/s]\n",
      "OllamaEmbeddings: 100%|██████████| 1/1 [00:00<00:00, 48.10it/s]\n",
      "OllamaEmbeddings: 100%|██████████| 1/1 [00:00<00:00,  1.69it/s]\n",
      "OllamaEmbeddings: 100%|██████████| 1/1 [00:00<00:00, 45.84it/s]\n",
      "OllamaEmbeddings: 100%|██████████| 1/1 [00:00<00:00, 53.50it/s]\n",
      "OllamaEmbeddings: 100%|██████████| 1/1 [00:00<00:00, 51.05it/s]\n",
      "OllamaEmbeddings: 100%|██████████| 1/1 [00:00<00:00, 45.18it/s]\n",
      "OllamaEmbeddings: 100%|██████████| 1/1 [00:00<00:00, 78.27it/s]\n",
      "OllamaEmbeddings: 100%|██████████| 1/1 [00:00<00:00, 76.39it/s]\n",
      "OllamaEmbeddings: 100%|██████████| 1/1 [00:00<00:00, 23.61it/s]\n",
      "OllamaEmbeddings: 100%|██████████| 1/1 [00:00<00:00, 72.67it/s]\n",
      "OllamaEmbeddings: 100%|██████████| 1/1 [00:00<00:00, 48.50it/s]\n",
      "OllamaEmbeddings: 100%|██████████| 1/1 [00:00<00:00,  1.69it/s]\n",
      "OllamaEmbeddings: 100%|██████████| 1/1 [00:00<00:00, 52.22it/s]\n",
      "OllamaEmbeddings: 100%|██████████| 1/1 [00:00<00:00, 63.81it/s]\n",
      "OllamaEmbeddings: 100%|██████████| 1/1 [00:00<00:00, 62.44it/s]\n",
      "OllamaEmbeddings: 100%|██████████| 1/1 [00:00<00:00, 49.91it/s]\n",
      "OllamaEmbeddings: 100%|██████████| 1/1 [00:00<00:00, 77.62it/s]\n",
      "OllamaEmbeddings: 100%|██████████| 1/1 [00:00<00:00, 64.97it/s]\n",
      "OllamaEmbeddings: 100%|██████████| 1/1 [00:00<00:00,  1.65it/s]\n",
      "OllamaEmbeddings: 100%|██████████| 1/1 [00:00<00:00, 46.40it/s]\n",
      "OllamaEmbeddings: 100%|██████████| 1/1 [00:00<00:00, 51.55it/s]\n",
      "OllamaEmbeddings: 100%|██████████| 1/1 [00:00<00:00, 50.66it/s]\n",
      "OllamaEmbeddings: 100%|██████████| 1/1 [00:00<00:00, 46.78it/s]\n",
      "OllamaEmbeddings: 100%|██████████| 1/1 [00:00<00:00, 82.56it/s]\n",
      "OllamaEmbeddings: 100%|██████████| 1/1 [00:00<00:00, 50.39it/s]\n",
      "OllamaEmbeddings: 100%|██████████| 1/1 [00:00<00:00,  1.69it/s]\n",
      "OllamaEmbeddings: 100%|██████████| 1/1 [00:00<00:00, 39.02it/s]\n",
      "OllamaEmbeddings: 100%|██████████| 1/1 [00:00<00:00, 47.18it/s]\n",
      "OllamaEmbeddings: 100%|██████████| 1/1 [00:00<00:00, 45.28it/s]\n",
      "OllamaEmbeddings: 100%|██████████| 1/1 [00:00<00:00, 45.90it/s]\n",
      "OllamaEmbeddings: 100%|██████████| 1/1 [00:00<00:00, 79.45it/s]\n",
      "OllamaEmbeddings: 100%|██████████| 1/1 [00:00<00:00, 69.66it/s]\n",
      "OllamaEmbeddings: 100%|██████████| 1/1 [00:00<00:00, 75.73it/s]\n",
      "OllamaEmbeddings: 100%|██████████| 1/1 [00:00<00:00, 73.41it/s]\n"
     ]
    },
    {
     "name": "stdout",
     "output_type": "stream",
     "text": [
      " The document \"PZO2033 001-019.pdf\" appears to be a series of adventure hooks and encounters for the Pathfinder Roleplaying Game (RPG) designed for use in a campaign setting. Here's an overview of each page based on their titles:\n",
      "\n",
      "1. \"The Lost Temple of the Serpent Queen\": The players hear rumors of a lost temple dedicated to a powerful serpent deity and set out to find it, facing traps and puzzles along the way.\n",
      "2. \"The Haunted Caravan\": A caravan is attacked by undead, and the players are hired to investigate and put an end to the curse plaguing it.\n",
      "3. \"The Cursed Witch\": The players must determine whether a local witch is truly cursed or a danger to the community and deal with the consequences of their actions.\n",
      "4. \"The Shape-shifting Menace\": The players encounter a shape-shifting creature terrorizing a nearby village and investigate its origins, discovering a larger conspiracy.\n",
      "5. \"The Haunting of Harrowstone\": The players are summoned to investigate the supernatural events occurring in the eerie town of Harrowstone.\n",
      "6. \"The Cursed Mill\": A haunted mill is terrorizing the nearby village, and the players are tasked with finding a solution and putting an end to the curse.\n",
      "7. \"The Vengeful Ghost\": The players encounter a vengeful ghost seeking retribution for a past injustice and must help it find peace or deal with the consequences of their actions.\n",
      "8. \"The Beast of Glimwood Forest\": A mysterious beast is terrorizing the town on the edge of the Glimwood Forest, and the players are hired to hunt it down and put an end to its rampage.\n",
      "9. \"The Cursed Statue\": The players encounter a cursed statue that is slowly spreading corruption throughout the village and must find a way to stop it before it's too late.\n",
      "10. \"The Haunted House\": A haunted house in a nearby town is terrorizing the villagers, and the players are summoned to investigate and put an end to the supernatural menace.\n",
      "11. \"The Curse of the Crimson Hand\": The players encounter a secret society known as the Crimson Hand and unravel their dark plans, discovering a larger conspiracy that threatens the entire region.\n",
      "\n",
      "These adventure hooks are designed for use in a Pathfinder campaign setting, providing a range of challenges, puzzles, and investigations for players to explore.\n"
     ]
    }
   ],
   "source": [
    "print_result(\"Tell me the campaign overview in PZO2033 001-019.pdf\", chain)"
   ]
  },
  {
   "cell_type": "code",
   "execution_count": 28,
   "metadata": {},
   "outputs": [
    {
     "name": "stdout",
     "output_type": "stream",
     "text": [
      "Question: I would like to investigate the cursed witch, and learn if they are truly cursed.\n",
      "\n",
      "==============================\n",
      "\n"
     ]
    },
    {
     "name": "stderr",
     "output_type": "stream",
     "text": [
      "OllamaEmbeddings: 100%|██████████| 1/1 [00:00<00:00,  1.57it/s]\n",
      "Number of requested results 4 is greater than number of elements in index 1, updating n_results = 1\n",
      "OllamaEmbeddings: 100%|██████████| 1/1 [00:00<00:00, 66.55it/s]\n",
      "Number of requested results 4 is greater than number of elements in index 1, updating n_results = 1\n",
      "OllamaEmbeddings: 100%|██████████| 1/1 [00:00<00:00, 36.44it/s]\n",
      "Number of requested results 4 is greater than number of elements in index 1, updating n_results = 1\n",
      "OllamaEmbeddings: 100%|██████████| 1/1 [00:00<00:00, 79.38it/s]\n",
      "Number of requested results 4 is greater than number of elements in index 1, updating n_results = 1\n",
      "OllamaEmbeddings: 100%|██████████| 1/1 [00:00<00:00, 34.69it/s]\n",
      "Number of requested results 4 is greater than number of elements in index 1, updating n_results = 1\n",
      "OllamaEmbeddings: 100%|██████████| 1/1 [00:00<00:00, 75.98it/s]\n",
      "Number of requested results 4 is greater than number of elements in index 1, updating n_results = 1\n",
      "OllamaEmbeddings: 100%|██████████| 1/1 [00:00<00:00, 33.49it/s]\n",
      "Number of requested results 4 is greater than number of elements in index 1, updating n_results = 1\n",
      "OllamaEmbeddings: 100%|██████████| 1/1 [00:00<00:00, 59.35it/s]\n",
      "Number of requested results 4 is greater than number of elements in index 1, updating n_results = 1\n",
      "OllamaEmbeddings: 100%|██████████| 1/1 [00:00<00:00, 32.86it/s]\n",
      "Number of requested results 4 is greater than number of elements in index 1, updating n_results = 1\n",
      "OllamaEmbeddings: 100%|██████████| 1/1 [00:00<00:00,  1.59it/s]\n",
      "Number of requested results 4 is greater than number of elements in index 1, updating n_results = 1\n",
      "OllamaEmbeddings: 100%|██████████| 1/1 [00:00<00:00, 34.24it/s]\n",
      "Number of requested results 4 is greater than number of elements in index 1, updating n_results = 1\n",
      "OllamaEmbeddings: 100%|██████████| 1/1 [00:00<00:00, 34.38it/s]\n",
      "Number of requested results 4 is greater than number of elements in index 1, updating n_results = 1\n",
      "OllamaEmbeddings: 100%|██████████| 1/1 [00:00<00:00, 34.66it/s]\n",
      "Number of requested results 4 is greater than number of elements in index 1, updating n_results = 1\n",
      "OllamaEmbeddings: 100%|██████████| 1/1 [00:00<00:00, 33.97it/s]\n",
      "Number of requested results 4 is greater than number of elements in index 1, updating n_results = 1\n",
      "OllamaEmbeddings: 100%|██████████| 1/1 [00:00<00:00, 79.26it/s]\n",
      "Number of requested results 4 is greater than number of elements in index 1, updating n_results = 1\n",
      "OllamaEmbeddings: 100%|██████████| 1/1 [00:00<00:00, 60.30it/s]\n",
      "Number of requested results 4 is greater than number of elements in index 1, updating n_results = 1\n",
      "OllamaEmbeddings: 100%|██████████| 1/1 [00:00<00:00,  1.67it/s]\n",
      "OllamaEmbeddings: 100%|██████████| 1/1 [00:00<00:00, 74.42it/s]\n",
      "OllamaEmbeddings: 100%|██████████| 1/1 [00:00<00:00, 38.34it/s]\n",
      "OllamaEmbeddings: 100%|██████████| 1/1 [00:00<00:00, 87.41it/s]\n",
      "OllamaEmbeddings: 100%|██████████| 1/1 [00:00<00:00, 48.80it/s]\n",
      "OllamaEmbeddings: 100%|██████████| 1/1 [00:00<00:00, 79.26it/s]\n",
      "OllamaEmbeddings: 100%|██████████| 1/1 [00:00<00:00, 39.95it/s]\n",
      "OllamaEmbeddings: 100%|██████████| 1/1 [00:00<00:00, 69.96it/s]\n",
      "OllamaEmbeddings: 100%|██████████| 1/1 [00:00<00:00, 57.12it/s]\n",
      "OllamaEmbeddings: 100%|██████████| 1/1 [00:00<00:00, 70.81it/s]\n",
      "OllamaEmbeddings: 100%|██████████| 1/1 [00:00<00:00, 67.50it/s]\n",
      "OllamaEmbeddings: 100%|██████████| 1/1 [00:00<00:00, 65.28it/s]\n",
      "OllamaEmbeddings: 100%|██████████| 1/1 [00:00<00:00,  1.70it/s]\n",
      "OllamaEmbeddings: 100%|██████████| 1/1 [00:00<00:00, 48.39it/s]\n",
      "OllamaEmbeddings: 100%|██████████| 1/1 [00:00<00:00, 53.86it/s]\n",
      "OllamaEmbeddings: 100%|██████████| 1/1 [00:00<00:00, 54.87it/s]\n",
      "OllamaEmbeddings: 100%|██████████| 1/1 [00:00<00:00, 48.52it/s]\n",
      "OllamaEmbeddings: 100%|██████████| 1/1 [00:00<00:00, 72.82it/s]\n",
      "OllamaEmbeddings: 100%|██████████| 1/1 [00:00<00:00, 54.66it/s]\n",
      "OllamaEmbeddings: 100%|██████████| 1/1 [00:00<00:00,  1.60it/s]\n",
      "OllamaEmbeddings: 100%|██████████| 1/1 [00:00<00:00, 69.07it/s]\n",
      "OllamaEmbeddings: 100%|██████████| 1/1 [00:00<00:00, 36.98it/s]\n",
      "OllamaEmbeddings: 100%|██████████| 1/1 [00:00<00:00, 84.74it/s]\n",
      "OllamaEmbeddings: 100%|██████████| 1/1 [00:00<00:00, 37.84it/s]\n",
      "OllamaEmbeddings: 100%|██████████| 1/1 [00:00<00:00, 81.92it/s]\n",
      "OllamaEmbeddings: 100%|██████████| 1/1 [00:00<00:00, 37.48it/s]\n",
      "OllamaEmbeddings: 100%|██████████| 1/1 [00:00<00:00, 85.53it/s]\n",
      "OllamaEmbeddings: 100%|██████████| 1/1 [00:00<00:00, 35.88it/s]\n",
      "OllamaEmbeddings: 100%|██████████| 1/1 [00:00<00:00, 72.52it/s]\n",
      "OllamaEmbeddings: 100%|██████████| 1/1 [00:00<00:00, 48.91it/s]\n",
      "OllamaEmbeddings: 100%|██████████| 1/1 [00:00<00:00,  1.55it/s]\n",
      "OllamaEmbeddings: 100%|██████████| 1/1 [00:00<00:00, 76.16it/s]\n",
      "OllamaEmbeddings: 100%|██████████| 1/1 [00:00<00:00, 42.38it/s]\n",
      "OllamaEmbeddings: 100%|██████████| 1/1 [00:00<00:00, 84.66it/s]\n",
      "OllamaEmbeddings: 100%|██████████| 1/1 [00:00<00:00, 35.36it/s]\n",
      "OllamaEmbeddings: 100%|██████████| 1/1 [00:00<00:00, 82.20it/s]\n",
      "OllamaEmbeddings: 100%|██████████| 1/1 [00:00<00:00, 35.86it/s]\n",
      "OllamaEmbeddings: 100%|██████████| 1/1 [00:00<00:00, 76.57it/s]\n",
      "OllamaEmbeddings: 100%|██████████| 1/1 [00:00<00:00, 27.74it/s]\n",
      "OllamaEmbeddings: 100%|██████████| 1/1 [00:00<00:00, 75.62it/s]\n",
      "OllamaEmbeddings: 100%|██████████| 1/1 [00:00<00:00, 67.53it/s]\n",
      "OllamaEmbeddings: 100%|██████████| 1/1 [00:00<00:00, 71.19it/s]\n",
      "OllamaEmbeddings: 100%|██████████| 1/1 [00:00<00:00, 71.27it/s]\n",
      "OllamaEmbeddings: 100%|██████████| 1/1 [00:00<00:00, 73.91it/s]\n",
      "OllamaEmbeddings: 100%|██████████| 1/1 [00:00<00:00, 62.63it/s]\n",
      "OllamaEmbeddings: 100%|██████████| 1/1 [00:00<00:00, 68.14it/s]\n",
      "OllamaEmbeddings: 100%|██████████| 1/1 [00:00<00:00, 63.79it/s]\n",
      "OllamaEmbeddings: 100%|██████████| 1/1 [00:00<00:00, 66.95it/s]\n",
      "OllamaEmbeddings: 100%|██████████| 1/1 [00:00<00:00, 60.76it/s]\n",
      "OllamaEmbeddings: 100%|██████████| 1/1 [00:00<00:00,  1.66it/s]\n",
      "OllamaEmbeddings: 100%|██████████| 1/1 [00:00<00:00, 46.29it/s]\n",
      "OllamaEmbeddings: 100%|██████████| 1/1 [00:00<00:00, 48.64it/s]\n",
      "OllamaEmbeddings: 100%|██████████| 1/1 [00:00<00:00, 49.80it/s]\n",
      "OllamaEmbeddings: 100%|██████████| 1/1 [00:00<00:00, 45.92it/s]\n",
      "OllamaEmbeddings: 100%|██████████| 1/1 [00:00<00:00, 77.50it/s]\n",
      "OllamaEmbeddings: 100%|██████████| 1/1 [00:00<00:00, 66.41it/s]\n",
      "OllamaEmbeddings: 100%|██████████| 1/1 [00:00<00:00, 69.77it/s]\n"
     ]
    },
    {
     "name": "stdout",
     "output_type": "stream",
     "text": [
      " To investigate the cursed witch, you will need to gather information about her background, her alleged curse, and any potential leads or clues related to her supposed curse. Here's a suggested approach:\n",
      "1. Gather Information: Use your contacts in the local community, especially those with knowledge of the supernatural, to learn what is known about the cursed witch. Ask around for rumors, legends, or facts that might help you understand her situation. You may need to use Persuasion, Intimidation, or Deception skills to extract information from reluctant sources.\n",
      "2. Interview Witnesses: Talk to people who have seen the witch or who live near her dwelling. Ask them about her behavior before and after the supposed curse took effect, any unusual occurrences they've noticed, and their personal beliefs regarding curses and witches. Use active listening skills and follow up questions to gather as much detail as possible.\n",
      "3. Inspect the Witch's Dwelling: If it is safe to do so, visit the witch's home and search for any signs of supernatural activity or clues related to her curse. Look for strange symbols, objects, or rituals that might be connected to the curse. Use your Herbalist or Survival skills if necessary to identify any unusual plants or animals in the area.\n",
      "4. Consult Experts: Seek out local experts on the supernatural, such as priests, priestesses, or herbalists, for their opinions and guidance. They might have additional knowledge about curses or the specific type of curse that is said to afflict the witch. Use your Knowledge (Arcana), Knowledge (Religion), or Lore skills to gather information from these experts.\n",
      "5. Research: Read any available texts on curses, witches, and the supernatural in general. Use your Lore skill to find relevant books in local libraries, temples, or other repositories of knowledge. Look for patterns or commonalities between different types of curses and see if they apply to the situation with the cursed witch.\n",
      "6. Use Your Senses: Pay close attention to any unusual sensations, smells, sounds, or sights that you encounter during your investigation. Trust your instincts and use your Perception skill to notice even the smallest details that might be relevant to the case.\n",
      "7. Consider Alternative Explanations: Be open-minded about alternative explanations for the witch's alleged curse. For example, she could be suffering from a medical condition or experiencing a mental health issue rather than being genuinely cursed. Use your Insight skill to assess the situation and come up with the most plausible explanation.\n",
      "8. Confront the Witch: If it is safe to do so, confront the witch directly and ask her about the curse. Use tact and diplomacy when speaking to her, as she may be defensive or fearful. Be prepared for her to deny the curse or to offer an explanation that you had not considered before.\n",
      "9. Follow Up on Leads: If you come across any new leads or information during your investigation, follow up on them to learn more about the situation with the cursed witch. Use your Persuasion, Intimidation, or Deception skills as necessary to extract additional details from reluctant sources.\n",
      "10. Document Your Findings: Keep detailed notes of everything you've learned during your investigation, including any new leads or information that comes to light. This will help you in the future if you need to revisit this case or if you come across similar situations.\n"
     ]
    }
   ],
   "source": [
    "print_result(\"I would like to investigate the cursed witch, and learn if they are truly cursed.\", chain)"
   ]
  },
  {
   "cell_type": "code",
   "execution_count": 30,
   "metadata": {},
   "outputs": [
    {
     "name": "stdout",
     "output_type": "stream",
     "text": [
      "Question: I would like to gather information about the cursed witch in PZO2033 001-019.pdf, what do I need to do in order to accomplish this task?\n",
      "\n",
      "==============================\n",
      "\n"
     ]
    },
    {
     "name": "stderr",
     "output_type": "stream",
     "text": [
      "OllamaEmbeddings: 100%|██████████| 1/1 [00:00<00:00,  1.68it/s]\n",
      "Number of requested results 4 is greater than number of elements in index 1, updating n_results = 1\n",
      "OllamaEmbeddings: 100%|██████████| 1/1 [00:00<00:00, 52.40it/s]\n",
      "Number of requested results 4 is greater than number of elements in index 1, updating n_results = 1\n",
      "OllamaEmbeddings: 100%|██████████| 1/1 [00:00<00:00, 49.48it/s]\n",
      "Number of requested results 4 is greater than number of elements in index 1, updating n_results = 1\n",
      "OllamaEmbeddings: 100%|██████████| 1/1 [00:00<00:00, 54.19it/s]\n",
      "Number of requested results 4 is greater than number of elements in index 1, updating n_results = 1\n",
      "OllamaEmbeddings: 100%|██████████| 1/1 [00:00<00:00, 51.27it/s]\n",
      "Number of requested results 4 is greater than number of elements in index 1, updating n_results = 1\n",
      "OllamaEmbeddings: 100%|██████████| 1/1 [00:00<00:00, 77.21it/s]\n",
      "Number of requested results 4 is greater than number of elements in index 1, updating n_results = 1\n",
      "OllamaEmbeddings: 100%|██████████| 1/1 [00:00<00:00, 51.72it/s]\n",
      "Number of requested results 4 is greater than number of elements in index 1, updating n_results = 1\n",
      "OllamaEmbeddings: 100%|██████████| 1/1 [00:00<00:00,  1.64it/s]\n",
      "Number of requested results 4 is greater than number of elements in index 1, updating n_results = 1\n",
      "OllamaEmbeddings: 100%|██████████| 1/1 [00:00<00:00, 77.96it/s]\n",
      "Number of requested results 4 is greater than number of elements in index 1, updating n_results = 1\n",
      "OllamaEmbeddings: 100%|██████████| 1/1 [00:00<00:00, 39.24it/s]\n",
      "Number of requested results 4 is greater than number of elements in index 1, updating n_results = 1\n",
      "OllamaEmbeddings: 100%|██████████| 1/1 [00:00<00:00, 76.23it/s]\n",
      "Number of requested results 4 is greater than number of elements in index 1, updating n_results = 1\n",
      "OllamaEmbeddings: 100%|██████████| 1/1 [00:00<00:00, 38.50it/s]\n",
      "Number of requested results 4 is greater than number of elements in index 1, updating n_results = 1\n",
      "OllamaEmbeddings: 100%|██████████| 1/1 [00:00<00:00, 85.20it/s]\n",
      "Number of requested results 4 is greater than number of elements in index 1, updating n_results = 1\n",
      "OllamaEmbeddings: 100%|██████████| 1/1 [00:00<00:00, 45.07it/s]\n",
      "Number of requested results 4 is greater than number of elements in index 1, updating n_results = 1\n",
      "OllamaEmbeddings: 100%|██████████| 1/1 [00:00<00:00, 77.75it/s]\n",
      "Number of requested results 4 is greater than number of elements in index 1, updating n_results = 1\n",
      "OllamaEmbeddings: 100%|██████████| 1/1 [00:00<00:00, 36.33it/s]\n",
      "Number of requested results 4 is greater than number of elements in index 1, updating n_results = 1\n",
      "OllamaEmbeddings: 100%|██████████| 1/1 [00:00<00:00, 69.24it/s]\n",
      "Number of requested results 4 is greater than number of elements in index 1, updating n_results = 1\n",
      "OllamaEmbeddings: 100%|██████████| 1/1 [00:00<00:00, 25.22it/s]\n",
      "Number of requested results 4 is greater than number of elements in index 1, updating n_results = 1\n",
      "OllamaEmbeddings: 100%|██████████| 1/1 [00:00<00:00,  1.70it/s]\n",
      "OllamaEmbeddings: 100%|██████████| 1/1 [00:00<00:00, 46.98it/s]\n",
      "OllamaEmbeddings: 100%|██████████| 1/1 [00:00<00:00, 48.26it/s]\n",
      "OllamaEmbeddings: 100%|██████████| 1/1 [00:00<00:00, 47.29it/s]\n",
      "OllamaEmbeddings: 100%|██████████| 1/1 [00:00<00:00, 37.20it/s]\n",
      "OllamaEmbeddings: 100%|██████████| 1/1 [00:00<00:00, 82.91it/s]\n",
      "OllamaEmbeddings: 100%|██████████| 1/1 [00:00<00:00, 72.32it/s]\n",
      "OllamaEmbeddings: 100%|██████████| 1/1 [00:00<00:00, 71.07it/s]\n",
      "OllamaEmbeddings: 100%|██████████| 1/1 [00:00<00:00, 75.95it/s]\n",
      "OllamaEmbeddings: 100%|██████████| 1/1 [00:00<00:00,  1.70it/s]\n",
      "OllamaEmbeddings: 100%|██████████| 1/1 [00:00<00:00, 81.49it/s]\n",
      "OllamaEmbeddings: 100%|██████████| 1/1 [00:00<00:00, 37.06it/s]\n",
      "OllamaEmbeddings: 100%|██████████| 1/1 [00:00<00:00, 81.06it/s]\n",
      "OllamaEmbeddings: 100%|██████████| 1/1 [00:00<00:00, 34.99it/s]\n",
      "OllamaEmbeddings: 100%|██████████| 1/1 [00:00<00:00, 79.59it/s]\n",
      "OllamaEmbeddings: 100%|██████████| 1/1 [00:00<00:00, 34.31it/s]\n",
      "OllamaEmbeddings: 100%|██████████| 1/1 [00:00<00:00, 82.95it/s]\n",
      "OllamaEmbeddings: 100%|██████████| 1/1 [00:00<00:00, 34.91it/s]\n",
      "OllamaEmbeddings: 100%|██████████| 1/1 [00:00<00:00, 71.12it/s]\n",
      "OllamaEmbeddings: 100%|██████████| 1/1 [00:00<00:00, 45.17it/s]\n",
      "OllamaEmbeddings: 100%|██████████| 1/1 [00:00<00:00,  1.70it/s]\n",
      "OllamaEmbeddings: 100%|██████████| 1/1 [00:00<00:00, 76.21it/s]\n",
      "OllamaEmbeddings: 100%|██████████| 1/1 [00:00<00:00, 36.11it/s]\n",
      "OllamaEmbeddings: 100%|██████████| 1/1 [00:00<00:00, 87.46it/s]\n",
      "OllamaEmbeddings: 100%|██████████| 1/1 [00:00<00:00, 39.36it/s]\n",
      "OllamaEmbeddings: 100%|██████████| 1/1 [00:00<00:00, 79.63it/s]\n",
      "OllamaEmbeddings: 100%|██████████| 1/1 [00:00<00:00, 47.36it/s]\n",
      "OllamaEmbeddings: 100%|██████████| 1/1 [00:00<00:00, 87.00it/s]\n",
      "OllamaEmbeddings: 100%|██████████| 1/1 [00:00<00:00, 47.05it/s]\n",
      "OllamaEmbeddings: 100%|██████████| 1/1 [00:00<00:00, 73.26it/s]\n",
      "OllamaEmbeddings: 100%|██████████| 1/1 [00:00<00:00, 58.19it/s]\n",
      "OllamaEmbeddings: 100%|██████████| 1/1 [00:00<00:00,  1.67it/s]\n",
      "OllamaEmbeddings: 100%|██████████| 1/1 [00:00<00:00, 50.09it/s]\n",
      "OllamaEmbeddings: 100%|██████████| 1/1 [00:00<00:00, 47.68it/s]\n",
      "OllamaEmbeddings: 100%|██████████| 1/1 [00:00<00:00, 44.15it/s]\n",
      "OllamaEmbeddings: 100%|██████████| 1/1 [00:00<00:00, 48.83it/s]\n",
      "OllamaEmbeddings: 100%|██████████| 1/1 [00:00<00:00, 75.87it/s]\n",
      "OllamaEmbeddings: 100%|██████████| 1/1 [00:00<00:00, 63.41it/s]\n",
      "OllamaEmbeddings: 100%|██████████| 1/1 [00:00<00:00,  1.66it/s]\n",
      "OllamaEmbeddings: 100%|██████████| 1/1 [00:00<00:00, 36.83it/s]\n",
      "OllamaEmbeddings: 100%|██████████| 1/1 [00:00<00:00, 39.27it/s]\n",
      "OllamaEmbeddings: 100%|██████████| 1/1 [00:00<00:00, 46.47it/s]\n",
      "OllamaEmbeddings: 100%|██████████| 1/1 [00:00<00:00, 36.65it/s]\n",
      "OllamaEmbeddings: 100%|██████████| 1/1 [00:00<00:00, 65.10it/s]\n",
      "OllamaEmbeddings: 100%|██████████| 1/1 [00:00<00:00, 37.10it/s]\n"
     ]
    },
    {
     "name": "stdout",
     "output_type": "stream",
     "text": [
      " To gather information about the cursed witch in PZO2033 01-019.pdf, you can follow these steps:\n",
      "\n",
      "1. Open the PDF file using a PDF reader software such as Adobe Acrobat, Foxit Reader, or any other compatible software.\n",
      "2. Use the search function (Ctrl+F) to look for keywords related to the cursed witch. Some possible keywords could be \"cursed witch,\" \"witch,\" or specific names mentioned in the text.\n",
      "3. Read through the text carefully, taking notes of any relevant information you find. This may include the witch's name, appearance, abilities, motives, and backstory.\n",
      "4. Look for illustrations or diagrams that might depict the cursed witch or provide additional details about her.\n",
      "5. Check if there are any sidebars, boxes, or special callouts in the text that contain useful information about the cursed witch.\n",
      "6. Consult with other sources, such as rules books, supplements, or online resources, to gain a better understanding of the context and background of the cursed witch in Pathfinder lore.\n",
      "7. If you're playing a Pathfinder game, discuss any findings with your GM and incorporate the information into your character's backstory, plot hooks, or encounters.\n",
      "\n",
      "Keep in mind that gathering information from a PDF file can be time-consuming and may require careful attention to detail, but it can also provide valuable insights and help enhance your gaming experience. Happy exploring!\n"
     ]
    }
   ],
   "source": [
    "print_result(\"I would like to gather information about the cursed witch in PZO2033 001-019.pdf, what do I need to do in order to accomplish this task?\", chain)"
   ]
  },
  {
   "cell_type": "code",
   "execution_count": 31,
   "metadata": {},
   "outputs": [
    {
     "name": "stdout",
     "output_type": "stream",
     "text": [
      "Question: I would like to learn more about the cursed witch - I would like to ask around for rumors about the cursed witch.\n",
      "\n",
      "==============================\n",
      "\n"
     ]
    },
    {
     "name": "stderr",
     "output_type": "stream",
     "text": [
      "OllamaEmbeddings: 100%|██████████| 1/1 [00:00<00:00,  1.57it/s]\n",
      "Number of requested results 4 is greater than number of elements in index 1, updating n_results = 1\n",
      "OllamaEmbeddings: 100%|██████████| 1/1 [00:00<00:00, 41.53it/s]\n",
      "Number of requested results 4 is greater than number of elements in index 1, updating n_results = 1\n",
      "OllamaEmbeddings: 100%|██████████| 1/1 [00:00<00:00, 36.56it/s]\n",
      "Number of requested results 4 is greater than number of elements in index 1, updating n_results = 1\n",
      "OllamaEmbeddings: 100%|██████████| 1/1 [00:00<00:00, 45.60it/s]\n",
      "Number of requested results 4 is greater than number of elements in index 1, updating n_results = 1\n",
      "OllamaEmbeddings: 100%|██████████| 1/1 [00:00<00:00, 44.50it/s]\n",
      "Number of requested results 4 is greater than number of elements in index 1, updating n_results = 1\n",
      "OllamaEmbeddings: 100%|██████████| 1/1 [00:00<00:00, 75.75it/s]\n",
      "Number of requested results 4 is greater than number of elements in index 1, updating n_results = 1\n",
      "OllamaEmbeddings: 100%|██████████| 1/1 [00:00<00:00, 61.79it/s]\n",
      "Number of requested results 4 is greater than number of elements in index 1, updating n_results = 1\n",
      "OllamaEmbeddings: 100%|██████████| 1/1 [00:00<00:00,  1.63it/s]\n",
      "Number of requested results 4 is greater than number of elements in index 1, updating n_results = 1\n",
      "OllamaEmbeddings: 100%|██████████| 1/1 [00:00<00:00, 76.34it/s]\n",
      "Number of requested results 4 is greater than number of elements in index 1, updating n_results = 1\n",
      "OllamaEmbeddings: 100%|██████████| 1/1 [00:00<00:00, 48.61it/s]\n",
      "Number of requested results 4 is greater than number of elements in index 1, updating n_results = 1\n",
      "OllamaEmbeddings: 100%|██████████| 1/1 [00:00<00:00, 67.74it/s]\n",
      "Number of requested results 4 is greater than number of elements in index 1, updating n_results = 1\n",
      "OllamaEmbeddings: 100%|██████████| 1/1 [00:00<00:00, 48.46it/s]\n",
      "Number of requested results 4 is greater than number of elements in index 1, updating n_results = 1\n",
      "OllamaEmbeddings: 100%|██████████| 1/1 [00:00<00:00, 76.52it/s]\n",
      "Number of requested results 4 is greater than number of elements in index 1, updating n_results = 1\n",
      "OllamaEmbeddings: 100%|██████████| 1/1 [00:00<00:00, 46.72it/s]\n",
      "Number of requested results 4 is greater than number of elements in index 1, updating n_results = 1\n",
      "OllamaEmbeddings: 100%|██████████| 1/1 [00:00<00:00, 75.73it/s]\n",
      "Number of requested results 4 is greater than number of elements in index 1, updating n_results = 1\n",
      "OllamaEmbeddings: 100%|██████████| 1/1 [00:00<00:00, 41.61it/s]\n",
      "Number of requested results 4 is greater than number of elements in index 1, updating n_results = 1\n",
      "OllamaEmbeddings: 100%|██████████| 1/1 [00:00<00:00, 44.98it/s]\n",
      "Number of requested results 4 is greater than number of elements in index 1, updating n_results = 1\n",
      "OllamaEmbeddings: 100%|██████████| 1/1 [00:00<00:00, 55.03it/s]\n",
      "Number of requested results 4 is greater than number of elements in index 1, updating n_results = 1\n",
      "OllamaEmbeddings: 100%|██████████| 1/1 [00:00<00:00,  1.63it/s]\n",
      "OllamaEmbeddings: 100%|██████████| 1/1 [00:00<00:00, 76.88it/s]\n",
      "OllamaEmbeddings: 100%|██████████| 1/1 [00:00<00:00, 38.46it/s]\n",
      "OllamaEmbeddings: 100%|██████████| 1/1 [00:00<00:00, 81.65it/s]\n",
      "OllamaEmbeddings: 100%|██████████| 1/1 [00:00<00:00, 46.44it/s]\n",
      "OllamaEmbeddings: 100%|██████████| 1/1 [00:00<00:00, 75.82it/s]\n",
      "OllamaEmbeddings: 100%|██████████| 1/1 [00:00<00:00, 38.38it/s]\n",
      "OllamaEmbeddings: 100%|██████████| 1/1 [00:00<00:00, 86.74it/s]\n",
      "OllamaEmbeddings: 100%|██████████| 1/1 [00:00<00:00, 35.62it/s]\n",
      "OllamaEmbeddings: 100%|██████████| 1/1 [00:00<00:00, 71.32it/s]\n",
      "OllamaEmbeddings: 100%|██████████| 1/1 [00:00<00:00, 63.11it/s]\n",
      "OllamaEmbeddings: 100%|██████████| 1/1 [00:00<00:00, 63.09it/s]\n",
      "OllamaEmbeddings: 100%|██████████| 1/1 [00:00<00:00, 52.97it/s]\n",
      "OllamaEmbeddings: 100%|██████████| 1/1 [00:00<00:00,  1.71it/s]\n",
      "OllamaEmbeddings: 100%|██████████| 1/1 [00:00<00:00, 51.10it/s]\n",
      "OllamaEmbeddings: 100%|██████████| 1/1 [00:00<00:00, 50.54it/s]\n",
      "OllamaEmbeddings: 100%|██████████| 1/1 [00:00<00:00, 55.75it/s]\n",
      "OllamaEmbeddings: 100%|██████████| 1/1 [00:00<00:00, 53.34it/s]\n",
      "OllamaEmbeddings: 100%|██████████| 1/1 [00:00<00:00, 78.77it/s]\n",
      "OllamaEmbeddings: 100%|██████████| 1/1 [00:00<00:00, 75.58it/s]\n",
      "OllamaEmbeddings: 100%|██████████| 1/1 [00:00<00:00, 69.50it/s]\n",
      "OllamaEmbeddings: 100%|██████████| 1/1 [00:00<00:00,  1.63it/s]\n",
      "OllamaEmbeddings: 100%|██████████| 1/1 [00:00<00:00, 38.14it/s]\n",
      "OllamaEmbeddings: 100%|██████████| 1/1 [00:00<00:00, 48.79it/s]\n",
      "OllamaEmbeddings: 100%|██████████| 1/1 [00:00<00:00, 46.46it/s]\n",
      "OllamaEmbeddings: 100%|██████████| 1/1 [00:00<00:00, 50.80it/s]\n",
      "OllamaEmbeddings: 100%|██████████| 1/1 [00:00<00:00, 73.77it/s]\n",
      "OllamaEmbeddings: 100%|██████████| 1/1 [00:00<00:00, 64.86it/s]\n",
      "OllamaEmbeddings: 100%|██████████| 1/1 [00:00<00:00,  1.71it/s]\n",
      "OllamaEmbeddings: 100%|██████████| 1/1 [00:00<00:00, 46.81it/s]\n",
      "OllamaEmbeddings: 100%|██████████| 1/1 [00:00<00:00, 47.23it/s]\n",
      "OllamaEmbeddings: 100%|██████████| 1/1 [00:00<00:00, 50.17it/s]\n",
      "OllamaEmbeddings: 100%|██████████| 1/1 [00:00<00:00, 58.18it/s]\n",
      "OllamaEmbeddings: 100%|██████████| 1/1 [00:00<00:00, 85.04it/s]\n",
      "OllamaEmbeddings: 100%|██████████| 1/1 [00:00<00:00, 50.03it/s]\n",
      "OllamaEmbeddings: 100%|██████████| 1/1 [00:00<00:00,  1.66it/s]\n",
      "OllamaEmbeddings: 100%|██████████| 1/1 [00:00<00:00, 48.33it/s]\n",
      "OllamaEmbeddings: 100%|██████████| 1/1 [00:00<00:00, 48.01it/s]\n",
      "OllamaEmbeddings: 100%|██████████| 1/1 [00:00<00:00, 49.51it/s]\n",
      "OllamaEmbeddings: 100%|██████████| 1/1 [00:00<00:00, 50.11it/s]\n",
      "OllamaEmbeddings: 100%|██████████| 1/1 [00:00<00:00, 84.72it/s]\n",
      "OllamaEmbeddings: 100%|██████████| 1/1 [00:00<00:00, 74.88it/s]\n",
      "OllamaEmbeddings: 100%|██████████| 1/1 [00:00<00:00, 79.74it/s]\n",
      "OllamaEmbeddings: 100%|██████████| 1/1 [00:00<00:00, 75.36it/s]\n"
     ]
    },
    {
     "name": "stdout",
     "output_type": "stream",
     "text": [
      " To ask around for rumors about the cursed witch in your campaign, you can try the following steps:\n",
      "\n",
      "1. Identify potential NPCs who might have information about the cursed witch: These could be local villagers, townsfolk, travelers, or even members of the clergy or other religious organizations.\n",
      "2. Approach these NPCs and ask them if they have heard anything about a cursed witch in the area. Use your charisma skill to influence their response, and remember that they may not be forthcoming with information right away.\n",
      "3. If an NPC does share some rumors or information about the cursed witch, listen carefully and try to glean as much detail as possible. You may need to follow up with additional questions to get a clearer picture of what you're dealing with.\n",
      "4. Keep in mind that the rumors you hear may not be entirely accurate or truthful. Some NPCs might be spreading false information to scare off travelers or protect their own interests.\n",
      "5. As you gather more information, try to piece together a coherent story about the cursed witch. Look for patterns and connections between different rumors and clues, and consider how they might fit together in the context of your campaign.\n"
     ]
    }
   ],
   "source": [
    "print_result(\"I would like to learn more about the cursed witch - I would like to ask around for rumors about the cursed witch.\", chain)"
   ]
  },
  {
   "cell_type": "code",
   "execution_count": 32,
   "metadata": {},
   "outputs": [
    {
     "name": "stdout",
     "output_type": "stream",
     "text": [
      "Question: Are there any legends about the cursed witch?\n",
      "\n",
      "==============================\n",
      "\n"
     ]
    },
    {
     "name": "stderr",
     "output_type": "stream",
     "text": [
      "OllamaEmbeddings: 100%|██████████| 1/1 [00:00<00:00,  1.66it/s]\n",
      "Number of requested results 4 is greater than number of elements in index 1, updating n_results = 1\n",
      "OllamaEmbeddings: 100%|██████████| 1/1 [00:00<00:00, 51.49it/s]\n",
      "Number of requested results 4 is greater than number of elements in index 1, updating n_results = 1\n",
      "OllamaEmbeddings: 100%|██████████| 1/1 [00:00<00:00, 50.85it/s]\n",
      "Number of requested results 4 is greater than number of elements in index 1, updating n_results = 1\n",
      "OllamaEmbeddings: 100%|██████████| 1/1 [00:00<00:00, 53.81it/s]\n",
      "Number of requested results 4 is greater than number of elements in index 1, updating n_results = 1\n",
      "OllamaEmbeddings: 100%|██████████| 1/1 [00:00<00:00, 54.19it/s]\n",
      "Number of requested results 4 is greater than number of elements in index 1, updating n_results = 1\n",
      "OllamaEmbeddings: 100%|██████████| 1/1 [00:00<00:00, 84.55it/s]\n",
      "Number of requested results 4 is greater than number of elements in index 1, updating n_results = 1\n",
      "OllamaEmbeddings: 100%|██████████| 1/1 [00:00<00:00, 35.15it/s]\n",
      "Number of requested results 4 is greater than number of elements in index 1, updating n_results = 1\n",
      "OllamaEmbeddings: 100%|██████████| 1/1 [00:00<00:00,  1.69it/s]\n",
      "Number of requested results 4 is greater than number of elements in index 1, updating n_results = 1\n",
      "OllamaEmbeddings: 100%|██████████| 1/1 [00:00<00:00, 40.34it/s]\n",
      "Number of requested results 4 is greater than number of elements in index 1, updating n_results = 1\n",
      "OllamaEmbeddings: 100%|██████████| 1/1 [00:00<00:00, 25.10it/s]\n",
      "Number of requested results 4 is greater than number of elements in index 1, updating n_results = 1\n",
      "OllamaEmbeddings: 100%|██████████| 1/1 [00:00<00:00, 52.08it/s]\n",
      "Number of requested results 4 is greater than number of elements in index 1, updating n_results = 1\n",
      "OllamaEmbeddings: 100%|██████████| 1/1 [00:00<00:00, 54.16it/s]\n",
      "Number of requested results 4 is greater than number of elements in index 1, updating n_results = 1\n",
      "OllamaEmbeddings: 100%|██████████| 1/1 [00:00<00:00, 85.22it/s]\n",
      "Number of requested results 4 is greater than number of elements in index 1, updating n_results = 1\n",
      "OllamaEmbeddings: 100%|██████████| 1/1 [00:00<00:00, 72.66it/s]\n",
      "Number of requested results 4 is greater than number of elements in index 1, updating n_results = 1\n",
      "OllamaEmbeddings: 100%|██████████| 1/1 [00:00<00:00,  1.65it/s]\n",
      "OllamaEmbeddings: 100%|██████████| 1/1 [00:00<00:00, 42.87it/s]\n",
      "OllamaEmbeddings: 100%|██████████| 1/1 [00:00<00:00, 48.76it/s]\n",
      "OllamaEmbeddings: 100%|██████████| 1/1 [00:00<00:00, 44.85it/s]\n",
      "OllamaEmbeddings: 100%|██████████| 1/1 [00:00<00:00, 36.19it/s]\n",
      "OllamaEmbeddings: 100%|██████████| 1/1 [00:00<00:00, 36.36it/s]\n",
      "OllamaEmbeddings: 100%|██████████| 1/1 [00:00<00:00, 27.25it/s]\n",
      "OllamaEmbeddings: 100%|██████████| 1/1 [00:00<00:00,  1.64it/s]\n",
      "OllamaEmbeddings: 100%|██████████| 1/1 [00:00<00:00, 49.54it/s]\n",
      "OllamaEmbeddings: 100%|██████████| 1/1 [00:00<00:00, 53.92it/s]\n",
      "OllamaEmbeddings: 100%|██████████| 1/1 [00:00<00:00, 53.71it/s]\n",
      "OllamaEmbeddings: 100%|██████████| 1/1 [00:00<00:00, 47.38it/s]\n",
      "OllamaEmbeddings: 100%|██████████| 1/1 [00:00<00:00, 51.10it/s]\n",
      "OllamaEmbeddings: 100%|██████████| 1/1 [00:00<00:00, 55.82it/s]\n",
      "OllamaEmbeddings: 100%|██████████| 1/1 [00:00<00:00, 79.60it/s]\n",
      "OllamaEmbeddings: 100%|██████████| 1/1 [00:00<00:00, 68.25it/s]\n",
      "OllamaEmbeddings: 100%|██████████| 1/1 [00:00<00:00, 65.01it/s]\n",
      "OllamaEmbeddings: 100%|██████████| 1/1 [00:00<00:00,  1.71it/s]\n",
      "OllamaEmbeddings: 100%|██████████| 1/1 [00:00<00:00, 51.37it/s]\n",
      "OllamaEmbeddings: 100%|██████████| 1/1 [00:00<00:00, 52.10it/s]\n",
      "OllamaEmbeddings: 100%|██████████| 1/1 [00:00<00:00, 52.53it/s]\n",
      "OllamaEmbeddings: 100%|██████████| 1/1 [00:00<00:00, 50.75it/s]\n",
      "OllamaEmbeddings: 100%|██████████| 1/1 [00:00<00:00, 84.33it/s]\n",
      "OllamaEmbeddings: 100%|██████████| 1/1 [00:00<00:00, 55.41it/s]\n",
      "OllamaEmbeddings: 100%|██████████| 1/1 [00:00<00:00, 80.69it/s]\n",
      "OllamaEmbeddings: 100%|██████████| 1/1 [00:00<00:00, 80.19it/s]\n",
      "OllamaEmbeddings: 100%|██████████| 1/1 [00:00<00:00, 66.79it/s]\n",
      "OllamaEmbeddings: 100%|██████████| 1/1 [00:00<00:00, 51.66it/s]\n",
      "OllamaEmbeddings: 100%|██████████| 1/1 [00:00<00:00, 48.24it/s]\n",
      "OllamaEmbeddings: 100%|██████████| 1/1 [00:00<00:00, 68.47it/s]\n",
      "OllamaEmbeddings: 100%|██████████| 1/1 [00:00<00:00, 72.81it/s]\n",
      "OllamaEmbeddings: 100%|██████████| 1/1 [00:00<00:00, 62.54it/s]\n",
      "OllamaEmbeddings: 100%|██████████| 1/1 [00:00<00:00, 57.22it/s]\n",
      "OllamaEmbeddings: 100%|██████████| 1/1 [00:00<00:00, 64.32it/s]\n",
      "OllamaEmbeddings: 100%|██████████| 1/1 [00:00<00:00,  1.69it/s]\n",
      "OllamaEmbeddings: 100%|██████████| 1/1 [00:00<00:00, 45.46it/s]\n",
      "OllamaEmbeddings: 100%|██████████| 1/1 [00:00<00:00, 46.09it/s]\n",
      "OllamaEmbeddings: 100%|██████████| 1/1 [00:00<00:00, 47.91it/s]\n",
      "OllamaEmbeddings: 100%|██████████| 1/1 [00:00<00:00, 47.40it/s]\n",
      "OllamaEmbeddings: 100%|██████████| 1/1 [00:00<00:00, 84.09it/s]\n",
      "OllamaEmbeddings: 100%|██████████| 1/1 [00:00<00:00, 77.06it/s]\n",
      "OllamaEmbeddings: 100%|██████████| 1/1 [00:00<00:00, 75.32it/s]\n",
      "OllamaEmbeddings: 100%|██████████| 1/1 [00:00<00:00, 81.23it/s]\n",
      "OllamaEmbeddings: 100%|██████████| 1/1 [00:00<00:00, 62.09it/s]\n",
      "OllamaEmbeddings: 100%|██████████| 1/1 [00:00<00:00,  1.69it/s]\n",
      "OllamaEmbeddings: 100%|██████████| 1/1 [00:00<00:00, 50.44it/s]\n",
      "OllamaEmbeddings: 100%|██████████| 1/1 [00:00<00:00, 52.51it/s]\n",
      "OllamaEmbeddings: 100%|██████████| 1/1 [00:00<00:00, 49.51it/s]\n",
      "OllamaEmbeddings: 100%|██████████| 1/1 [00:00<00:00, 49.81it/s]\n",
      "OllamaEmbeddings: 100%|██████████| 1/1 [00:00<00:00, 76.93it/s]\n",
      "OllamaEmbeddings: 100%|██████████| 1/1 [00:00<00:00, 54.63it/s]\n"
     ]
    },
    {
     "name": "stdout",
     "output_type": "stream",
     "text": [
      " I couldn't find specific information about a \"cursed witch\" in the provided text. The text focuses on rules and guidelines for upgrading armor and weapons with runes, as well as descriptions of some property runes that can be added to these items. If you have more context or details about this \"cursed witch,\" I would recommend checking other sources or consult with your game master for any potential legends or stories related to the character.\n"
     ]
    }
   ],
   "source": [
    "print_result(\"Are there any legends about the cursed witch?\", chain)"
   ]
  },
  {
   "cell_type": "code",
   "execution_count": 33,
   "metadata": {},
   "outputs": [
    {
     "name": "stdout",
     "output_type": "stream",
     "text": [
      "Question: Are there any NPCs in the area that would know more information about the cursed witch?\n",
      "\n",
      "==============================\n",
      "\n"
     ]
    },
    {
     "name": "stderr",
     "output_type": "stream",
     "text": [
      "OllamaEmbeddings: 100%|██████████| 1/1 [00:00<00:00,  1.69it/s]\n",
      "Number of requested results 4 is greater than number of elements in index 1, updating n_results = 1\n",
      "OllamaEmbeddings: 100%|██████████| 1/1 [00:00<00:00, 48.46it/s]\n",
      "Number of requested results 4 is greater than number of elements in index 1, updating n_results = 1\n",
      "OllamaEmbeddings: 100%|██████████| 1/1 [00:00<00:00, 51.95it/s]\n",
      "Number of requested results 4 is greater than number of elements in index 1, updating n_results = 1\n",
      "OllamaEmbeddings: 100%|██████████| 1/1 [00:00<00:00, 47.45it/s]\n",
      "Number of requested results 4 is greater than number of elements in index 1, updating n_results = 1\n",
      "OllamaEmbeddings: 100%|██████████| 1/1 [00:00<00:00, 47.17it/s]\n",
      "Number of requested results 4 is greater than number of elements in index 1, updating n_results = 1\n",
      "OllamaEmbeddings: 100%|██████████| 1/1 [00:00<00:00,  1.70it/s]\n",
      "Number of requested results 4 is greater than number of elements in index 1, updating n_results = 1\n",
      "OllamaEmbeddings: 100%|██████████| 1/1 [00:00<00:00, 54.22it/s]\n",
      "Number of requested results 4 is greater than number of elements in index 1, updating n_results = 1\n",
      "OllamaEmbeddings: 100%|██████████| 1/1 [00:00<00:00, 45.70it/s]\n",
      "Number of requested results 4 is greater than number of elements in index 1, updating n_results = 1\n",
      "OllamaEmbeddings: 100%|██████████| 1/1 [00:00<00:00, 35.02it/s]\n",
      "Number of requested results 4 is greater than number of elements in index 1, updating n_results = 1\n",
      "OllamaEmbeddings: 100%|██████████| 1/1 [00:00<00:00, 46.15it/s]\n",
      "Number of requested results 4 is greater than number of elements in index 1, updating n_results = 1\n",
      "OllamaEmbeddings: 100%|██████████| 1/1 [00:00<00:00, 65.16it/s]\n",
      "Number of requested results 4 is greater than number of elements in index 1, updating n_results = 1\n",
      "OllamaEmbeddings: 100%|██████████| 1/1 [00:00<00:00, 61.03it/s]\n",
      "Number of requested results 4 is greater than number of elements in index 1, updating n_results = 1\n",
      "OllamaEmbeddings: 100%|██████████| 1/1 [00:00<00:00, 70.10it/s]\n",
      "Number of requested results 4 is greater than number of elements in index 1, updating n_results = 1\n",
      "OllamaEmbeddings: 100%|██████████| 1/1 [00:00<00:00,  1.63it/s]\n",
      "OllamaEmbeddings: 100%|██████████| 1/1 [00:00<00:00, 43.83it/s]\n",
      "OllamaEmbeddings: 100%|██████████| 1/1 [00:00<00:00, 48.00it/s]\n",
      "OllamaEmbeddings: 100%|██████████| 1/1 [00:00<00:00, 48.52it/s]\n",
      "OllamaEmbeddings: 100%|██████████| 1/1 [00:00<00:00, 51.03it/s]\n",
      "OllamaEmbeddings: 100%|██████████| 1/1 [00:00<00:00, 72.46it/s]\n",
      "OllamaEmbeddings: 100%|██████████| 1/1 [00:00<00:00, 48.71it/s]\n",
      "OllamaEmbeddings: 100%|██████████| 1/1 [00:00<00:00,  1.66it/s]\n",
      "OllamaEmbeddings: 100%|██████████| 1/1 [00:00<00:00, 48.94it/s]\n",
      "OllamaEmbeddings: 100%|██████████| 1/1 [00:00<00:00, 53.01it/s]\n",
      "OllamaEmbeddings: 100%|██████████| 1/1 [00:00<00:00, 50.51it/s]\n",
      "OllamaEmbeddings: 100%|██████████| 1/1 [00:00<00:00, 48.79it/s]\n",
      "OllamaEmbeddings: 100%|██████████| 1/1 [00:00<00:00, 78.77it/s]\n",
      "OllamaEmbeddings: 100%|██████████| 1/1 [00:00<00:00, 56.35it/s]\n",
      "OllamaEmbeddings: 100%|██████████| 1/1 [00:00<00:00,  1.61it/s]\n",
      "OllamaEmbeddings: 100%|██████████| 1/1 [00:00<00:00, 44.56it/s]\n",
      "OllamaEmbeddings: 100%|██████████| 1/1 [00:00<00:00, 50.53it/s]\n",
      "OllamaEmbeddings: 100%|██████████| 1/1 [00:00<00:00, 50.35it/s]\n",
      "OllamaEmbeddings: 100%|██████████| 1/1 [00:00<00:00, 46.90it/s]\n",
      "OllamaEmbeddings: 100%|██████████| 1/1 [00:00<00:00, 45.45it/s]\n",
      "OllamaEmbeddings: 100%|██████████| 1/1 [00:00<00:00, 43.31it/s]\n",
      "OllamaEmbeddings: 100%|██████████| 1/1 [00:00<00:00,  1.54it/s]\n",
      "OllamaEmbeddings: 100%|██████████| 1/1 [00:00<00:00, 40.90it/s]\n",
      "OllamaEmbeddings: 100%|██████████| 1/1 [00:00<00:00, 46.70it/s]\n",
      "OllamaEmbeddings: 100%|██████████| 1/1 [00:00<00:00, 52.27it/s]\n",
      "OllamaEmbeddings: 100%|██████████| 1/1 [00:00<00:00, 49.59it/s]\n",
      "OllamaEmbeddings: 100%|██████████| 1/1 [00:00<00:00, 79.77it/s]\n",
      "OllamaEmbeddings: 100%|██████████| 1/1 [00:00<00:00, 76.75it/s]\n",
      "OllamaEmbeddings: 100%|██████████| 1/1 [00:00<00:00, 79.89it/s]\n",
      "OllamaEmbeddings: 100%|██████████| 1/1 [00:00<00:00, 79.65it/s]\n",
      "OllamaEmbeddings: 100%|██████████| 1/1 [00:00<00:00, 69.81it/s]\n",
      "OllamaEmbeddings: 100%|██████████| 1/1 [00:00<00:00, 67.54it/s]\n",
      "OllamaEmbeddings: 100%|██████████| 1/1 [00:00<00:00, 67.24it/s]\n",
      "OllamaEmbeddings: 100%|██████████| 1/1 [00:00<00:00, 64.15it/s]\n",
      "OllamaEmbeddings: 100%|██████████| 1/1 [00:00<00:00, 56.35it/s]\n",
      "OllamaEmbeddings: 100%|██████████| 1/1 [00:00<00:00, 63.13it/s]\n",
      "OllamaEmbeddings: 100%|██████████| 1/1 [00:00<00:00,  1.67it/s]\n",
      "OllamaEmbeddings: 100%|██████████| 1/1 [00:00<00:00, 45.99it/s]\n",
      "OllamaEmbeddings: 100%|██████████| 1/1 [00:00<00:00, 51.12it/s]\n",
      "OllamaEmbeddings: 100%|██████████| 1/1 [00:00<00:00, 53.49it/s]\n",
      "OllamaEmbeddings: 100%|██████████| 1/1 [00:00<00:00, 50.46it/s]\n",
      "OllamaEmbeddings: 100%|██████████| 1/1 [00:00<00:00, 83.91it/s]\n",
      "OllamaEmbeddings: 100%|██████████| 1/1 [00:00<00:00, 53.45it/s]\n",
      "OllamaEmbeddings: 100%|██████████| 1/1 [00:00<00:00, 74.96it/s]\n",
      "OllamaEmbeddings: 100%|██████████| 1/1 [00:00<00:00, 68.96it/s]\n",
      "OllamaEmbeddings: 100%|██████████| 1/1 [00:00<00:00, 67.68it/s]\n",
      "OllamaEmbeddings: 100%|██████████| 1/1 [00:00<00:00, 69.82it/s]\n",
      "OllamaEmbeddings: 100%|██████████| 1/1 [00:00<00:00, 67.32it/s]\n",
      "OllamaEmbeddings: 100%|██████████| 1/1 [00:00<00:00, 58.69it/s]\n",
      "OllamaEmbeddings: 100%|██████████| 1/1 [00:00<00:00, 56.97it/s]\n"
     ]
    },
    {
     "name": "stdout",
     "output_type": "stream",
     "text": [
      " The provided text does not contain any specific information about an NPC who knows more about the cursed witch. However, it does mention changelings, who can be hag offspring and could potentially have knowledge about a local hag coven or curse. It is recommended to consult the rest of the document or supplementary materials for further details on potential NPCs.\n"
     ]
    }
   ],
   "source": [
    "print_result(\"Are there any NPCs in the area that would know more information about the cursed witch?\", chain)"
   ]
  },
  {
   "cell_type": "code",
   "execution_count": 34,
   "metadata": {},
   "outputs": [
    {
     "name": "stdout",
     "output_type": "stream",
     "text": [
      "Question: I would like to inspect the witches dwelling and search for any clues related to the curse or related to supernatural activity.\n",
      "\n",
      "==============================\n",
      "\n"
     ]
    },
    {
     "name": "stderr",
     "output_type": "stream",
     "text": [
      "OllamaEmbeddings: 100%|██████████| 1/1 [00:00<00:00,  1.53it/s]\n",
      "Number of requested results 4 is greater than number of elements in index 1, updating n_results = 1\n",
      "OllamaEmbeddings: 100%|██████████| 1/1 [00:00<00:00, 48.58it/s]\n",
      "Number of requested results 4 is greater than number of elements in index 1, updating n_results = 1\n",
      "OllamaEmbeddings: 100%|██████████| 1/1 [00:00<00:00, 43.03it/s]\n",
      "Number of requested results 4 is greater than number of elements in index 1, updating n_results = 1\n",
      "OllamaEmbeddings: 100%|██████████| 1/1 [00:00<00:00, 49.61it/s]\n",
      "Number of requested results 4 is greater than number of elements in index 1, updating n_results = 1\n",
      "OllamaEmbeddings: 100%|██████████| 1/1 [00:00<00:00, 50.55it/s]\n",
      "Number of requested results 4 is greater than number of elements in index 1, updating n_results = 1\n",
      "OllamaEmbeddings: 100%|██████████| 1/1 [00:00<00:00, 86.78it/s]\n",
      "Number of requested results 4 is greater than number of elements in index 1, updating n_results = 1\n",
      "OllamaEmbeddings: 100%|██████████| 1/1 [00:00<00:00, 52.09it/s]\n",
      "Number of requested results 4 is greater than number of elements in index 1, updating n_results = 1\n",
      "OllamaEmbeddings: 100%|██████████| 1/1 [00:00<00:00,  1.64it/s]\n",
      "Number of requested results 4 is greater than number of elements in index 1, updating n_results = 1\n",
      "OllamaEmbeddings: 100%|██████████| 1/1 [00:00<00:00, 35.51it/s]\n",
      "Number of requested results 4 is greater than number of elements in index 1, updating n_results = 1\n",
      "OllamaEmbeddings: 100%|██████████| 1/1 [00:00<00:00, 36.98it/s]\n",
      "Number of requested results 4 is greater than number of elements in index 1, updating n_results = 1\n",
      "OllamaEmbeddings: 100%|██████████| 1/1 [00:00<00:00, 39.63it/s]\n",
      "Number of requested results 4 is greater than number of elements in index 1, updating n_results = 1\n",
      "OllamaEmbeddings: 100%|██████████| 1/1 [00:00<00:00, 38.13it/s]\n",
      "Number of requested results 4 is greater than number of elements in index 1, updating n_results = 1\n",
      "OllamaEmbeddings: 100%|██████████| 1/1 [00:00<00:00, 76.38it/s]\n",
      "Number of requested results 4 is greater than number of elements in index 1, updating n_results = 1\n",
      "OllamaEmbeddings: 100%|██████████| 1/1 [00:00<00:00, 61.81it/s]\n",
      "Number of requested results 4 is greater than number of elements in index 1, updating n_results = 1\n",
      "OllamaEmbeddings: 100%|██████████| 1/1 [00:00<00:00, 59.54it/s]\n",
      "Number of requested results 4 is greater than number of elements in index 1, updating n_results = 1\n",
      "OllamaEmbeddings: 100%|██████████| 1/1 [00:00<00:00,  1.69it/s]\n",
      "OllamaEmbeddings: 100%|██████████| 1/1 [00:00<00:00, 47.68it/s]\n",
      "OllamaEmbeddings: 100%|██████████| 1/1 [00:00<00:00, 56.87it/s]\n",
      "OllamaEmbeddings: 100%|██████████| 1/1 [00:00<00:00, 46.59it/s]\n",
      "OllamaEmbeddings: 100%|██████████| 1/1 [00:00<00:00, 38.97it/s]\n",
      "OllamaEmbeddings: 100%|██████████| 1/1 [00:00<00:00, 78.57it/s]\n",
      "OllamaEmbeddings: 100%|██████████| 1/1 [00:00<00:00, 46.99it/s]\n",
      "OllamaEmbeddings: 100%|██████████| 1/1 [00:00<00:00,  1.60it/s]\n",
      "OllamaEmbeddings: 100%|██████████| 1/1 [00:00<00:00, 56.85it/s]\n",
      "OllamaEmbeddings: 100%|██████████| 1/1 [00:00<00:00, 45.99it/s]\n",
      "OllamaEmbeddings: 100%|██████████| 1/1 [00:00<00:00, 83.98it/s]\n",
      "OllamaEmbeddings: 100%|██████████| 1/1 [00:00<00:00, 49.98it/s]\n",
      "OllamaEmbeddings: 100%|██████████| 1/1 [00:00<00:00, 81.87it/s]\n",
      "OllamaEmbeddings: 100%|██████████| 1/1 [00:00<00:00, 51.74it/s]\n",
      "OllamaEmbeddings: 100%|██████████| 1/1 [00:00<00:00, 63.32it/s]\n",
      "OllamaEmbeddings: 100%|██████████| 1/1 [00:00<00:00, 45.50it/s]\n",
      "OllamaEmbeddings: 100%|██████████| 1/1 [00:00<00:00, 66.23it/s]\n",
      "OllamaEmbeddings: 100%|██████████| 1/1 [00:00<00:00, 55.06it/s]\n",
      "OllamaEmbeddings: 100%|██████████| 1/1 [00:00<00:00, 74.09it/s]\n",
      "OllamaEmbeddings: 100%|██████████| 1/1 [00:00<00:00, 46.44it/s]\n",
      "OllamaEmbeddings: 100%|██████████| 1/1 [00:00<00:00,  1.31it/s]\n",
      "OllamaEmbeddings: 100%|██████████| 1/1 [00:00<00:00, 60.01it/s]\n",
      "OllamaEmbeddings: 100%|██████████| 1/1 [00:00<00:00, 42.23it/s]\n",
      "OllamaEmbeddings: 100%|██████████| 1/1 [00:00<00:00, 65.72it/s]\n",
      "OllamaEmbeddings: 100%|██████████| 1/1 [00:00<00:00, 38.30it/s]\n",
      "OllamaEmbeddings: 100%|██████████| 1/1 [00:00<00:00, 70.52it/s]\n",
      "OllamaEmbeddings: 100%|██████████| 1/1 [00:00<00:00, 32.73it/s]\n",
      "OllamaEmbeddings: 100%|██████████| 1/1 [00:00<00:00, 60.45it/s]\n",
      "OllamaEmbeddings: 100%|██████████| 1/1 [00:00<00:00, 32.17it/s]\n",
      "OllamaEmbeddings: 100%|██████████| 1/1 [00:00<00:00, 51.59it/s]\n",
      "OllamaEmbeddings: 100%|██████████| 1/1 [00:00<00:00, 52.13it/s]\n",
      "OllamaEmbeddings: 100%|██████████| 1/1 [00:00<00:00, 64.84it/s]\n",
      "OllamaEmbeddings: 100%|██████████| 1/1 [00:00<00:00, 68.25it/s]\n",
      "OllamaEmbeddings: 100%|██████████| 1/1 [00:00<00:00,  1.46it/s]\n",
      "OllamaEmbeddings: 100%|██████████| 1/1 [00:00<00:00, 54.05it/s]\n",
      "OllamaEmbeddings: 100%|██████████| 1/1 [00:00<00:00, 33.64it/s]\n",
      "OllamaEmbeddings: 100%|██████████| 1/1 [00:00<00:00, 50.88it/s]\n",
      "OllamaEmbeddings: 100%|██████████| 1/1 [00:00<00:00, 27.91it/s]\n",
      "OllamaEmbeddings: 100%|██████████| 1/1 [00:00<00:00, 85.29it/s]\n",
      "OllamaEmbeddings: 100%|██████████| 1/1 [00:00<00:00, 34.36it/s]\n",
      "OllamaEmbeddings: 100%|██████████| 1/1 [00:00<00:00, 77.55it/s]\n",
      "OllamaEmbeddings: 100%|██████████| 1/1 [00:00<00:00, 26.50it/s]\n",
      "OllamaEmbeddings: 100%|██████████| 1/1 [00:00<00:00, 63.75it/s]\n",
      "OllamaEmbeddings: 100%|██████████| 1/1 [00:00<00:00, 49.50it/s]\n",
      "OllamaEmbeddings: 100%|██████████| 1/1 [00:00<00:00,  1.54it/s]\n",
      "OllamaEmbeddings: 100%|██████████| 1/1 [00:00<00:00, 40.31it/s]\n",
      "OllamaEmbeddings: 100%|██████████| 1/1 [00:00<00:00, 40.22it/s]\n",
      "OllamaEmbeddings: 100%|██████████| 1/1 [00:00<00:00, 44.24it/s]\n",
      "OllamaEmbeddings: 100%|██████████| 1/1 [00:00<00:00, 38.82it/s]\n",
      "OllamaEmbeddings: 100%|██████████| 1/1 [00:00<00:00, 78.13it/s]\n",
      "OllamaEmbeddings: 100%|██████████| 1/1 [00:00<00:00, 61.92it/s]\n",
      "OllamaEmbeddings: 100%|██████████| 1/1 [00:00<00:00, 65.34it/s]\n",
      "OllamaEmbeddings: 100%|██████████| 1/1 [00:00<00:00, 68.38it/s]\n",
      "OllamaEmbeddings: 100%|██████████| 1/1 [00:00<00:00, 61.01it/s]\n",
      "OllamaEmbeddings: 100%|██████████| 1/1 [00:00<00:00, 50.89it/s]\n"
     ]
    },
    {
     "name": "stdout",
     "output_type": "stream",
     "text": [
      " To inspect the witch's dwelling and search for clues related to the curse or supernatural activity, you can follow these steps:\n",
      "\n",
      "1. Approach the witch's dwelling with caution and make sure it is safe to enter. If necessary, consult with local authorities or seek their assistance if there are any potential risks involved.\n",
      "2. Before entering the dwelling, take note of any visible signs that may indicate supernatural activity, such as strange symbols, unusual smells, or eerie sounds.\n",
      "3. Once inside, examine each room carefully and systematically. Look for anything out of the ordinary, including hidden compartments, strange markings, odd objects, or anything that seems to be connected to the curse or the witch's powers.\n",
      "4. Use your senses and skills to gather information about the dwelling and its contents. For example:\n",
      "   * If you have the Perception skill, use it to search for hidden items or signs of supernatural activity.\n",
      "   * If you have the Investigation skill, use it to identify mysterious objects or decipher cryptic messages.\n",
      "   * If you have the Medicine skill, use it to examine any potions, herbs, or other magical substances you find.\n",
      "5. Document everything you find and make sure to take detailed notes or sketches for future reference.\n",
      "6. If you find anything that could be evidence of a crime or a threat to public safety, share this information with local authorities or seek their assistance in handling the situation.\n"
     ]
    }
   ],
   "source": [
    "print_result(\"I would like to inspect the witches dwelling and search for any clues related to the curse or related to supernatural activity.\", chain)"
   ]
  },
  {
   "cell_type": "code",
   "execution_count": 29,
   "metadata": {},
   "outputs": [
    {
     "name": "stdout",
     "output_type": "stream",
     "text": [
      "Question: Tell me about giant spiders in pathfinder\n",
      "\n",
      "==============================\n",
      "\n"
     ]
    },
    {
     "name": "stderr",
     "output_type": "stream",
     "text": [
      "OllamaEmbeddings: 100%|██████████| 1/1 [00:00<00:00,  1.56it/s]\n",
      "Number of requested results 4 is greater than number of elements in index 1, updating n_results = 1\n",
      "OllamaEmbeddings: 100%|██████████| 1/1 [00:00<00:00, 51.32it/s]\n",
      "Number of requested results 4 is greater than number of elements in index 1, updating n_results = 1\n",
      "OllamaEmbeddings: 100%|██████████| 1/1 [00:00<00:00, 45.44it/s]\n",
      "Number of requested results 4 is greater than number of elements in index 1, updating n_results = 1\n",
      "OllamaEmbeddings: 100%|██████████| 1/1 [00:00<00:00, 50.72it/s]\n",
      "Number of requested results 4 is greater than number of elements in index 1, updating n_results = 1\n",
      "OllamaEmbeddings: 100%|██████████| 1/1 [00:00<00:00, 46.83it/s]\n",
      "Number of requested results 4 is greater than number of elements in index 1, updating n_results = 1\n",
      "OllamaEmbeddings: 100%|██████████| 1/1 [00:00<00:00, 83.63it/s]\n",
      "Number of requested results 4 is greater than number of elements in index 1, updating n_results = 1\n",
      "OllamaEmbeddings: 100%|██████████| 1/1 [00:00<00:00, 57.39it/s]\n",
      "Number of requested results 4 is greater than number of elements in index 1, updating n_results = 1\n",
      "OllamaEmbeddings: 100%|██████████| 1/1 [00:00<00:00,  1.67it/s]\n",
      "Number of requested results 4 is greater than number of elements in index 1, updating n_results = 1\n",
      "OllamaEmbeddings: 100%|██████████| 1/1 [00:00<00:00, 51.16it/s]\n",
      "Number of requested results 4 is greater than number of elements in index 1, updating n_results = 1\n",
      "OllamaEmbeddings: 100%|██████████| 1/1 [00:00<00:00, 49.56it/s]\n",
      "Number of requested results 4 is greater than number of elements in index 1, updating n_results = 1\n",
      "OllamaEmbeddings: 100%|██████████| 1/1 [00:00<00:00, 55.07it/s]\n",
      "Number of requested results 4 is greater than number of elements in index 1, updating n_results = 1\n",
      "OllamaEmbeddings: 100%|██████████| 1/1 [00:00<00:00, 50.61it/s]\n",
      "Number of requested results 4 is greater than number of elements in index 1, updating n_results = 1\n",
      "OllamaEmbeddings: 100%|██████████| 1/1 [00:00<00:00, 74.97it/s]\n",
      "Number of requested results 4 is greater than number of elements in index 1, updating n_results = 1\n",
      "OllamaEmbeddings: 100%|██████████| 1/1 [00:00<00:00, 59.89it/s]\n",
      "Number of requested results 4 is greater than number of elements in index 1, updating n_results = 1\n",
      "OllamaEmbeddings: 100%|██████████| 1/1 [00:00<00:00, 44.10it/s]\n",
      "Number of requested results 4 is greater than number of elements in index 1, updating n_results = 1\n",
      "OllamaEmbeddings: 100%|██████████| 1/1 [00:00<00:00,  1.72it/s]\n",
      "OllamaEmbeddings: 100%|██████████| 1/1 [00:00<00:00, 51.11it/s]\n",
      "OllamaEmbeddings: 100%|██████████| 1/1 [00:00<00:00, 48.52it/s]\n",
      "OllamaEmbeddings: 100%|██████████| 1/1 [00:00<00:00, 53.50it/s]\n",
      "OllamaEmbeddings: 100%|██████████| 1/1 [00:00<00:00, 47.54it/s]\n",
      "OllamaEmbeddings: 100%|██████████| 1/1 [00:00<00:00, 74.53it/s]\n",
      "OllamaEmbeddings: 100%|██████████| 1/1 [00:00<00:00, 65.26it/s]\n",
      "OllamaEmbeddings: 100%|██████████| 1/1 [00:00<00:00,  1.70it/s]\n",
      "OllamaEmbeddings: 100%|██████████| 1/1 [00:00<00:00, 45.42it/s]\n",
      "OllamaEmbeddings: 100%|██████████| 1/1 [00:00<00:00, 44.92it/s]\n",
      "OllamaEmbeddings: 100%|██████████| 1/1 [00:00<00:00, 45.61it/s]\n",
      "OllamaEmbeddings: 100%|██████████| 1/1 [00:00<00:00, 46.65it/s]\n",
      "OllamaEmbeddings: 100%|██████████| 1/1 [00:00<00:00, 82.75it/s]\n",
      "OllamaEmbeddings: 100%|██████████| 1/1 [00:00<00:00, 66.06it/s]\n",
      "OllamaEmbeddings: 100%|██████████| 1/1 [00:00<00:00,  1.71it/s]\n",
      "OllamaEmbeddings: 100%|██████████| 1/1 [00:00<00:00, 47.29it/s]\n",
      "OllamaEmbeddings: 100%|██████████| 1/1 [00:00<00:00, 46.79it/s]\n",
      "OllamaEmbeddings: 100%|██████████| 1/1 [00:00<00:00, 47.71it/s]\n",
      "OllamaEmbeddings: 100%|██████████| 1/1 [00:00<00:00, 46.80it/s]\n",
      "OllamaEmbeddings: 100%|██████████| 1/1 [00:00<00:00, 73.35it/s]\n",
      "OllamaEmbeddings: 100%|██████████| 1/1 [00:00<00:00, 67.09it/s]\n",
      "OllamaEmbeddings: 100%|██████████| 1/1 [00:00<00:00,  1.72it/s]\n",
      "OllamaEmbeddings: 100%|██████████| 1/1 [00:00<00:00, 49.74it/s]\n",
      "OllamaEmbeddings: 100%|██████████| 1/1 [00:00<00:00, 46.71it/s]\n",
      "OllamaEmbeddings: 100%|██████████| 1/1 [00:00<00:00, 46.86it/s]\n",
      "OllamaEmbeddings: 100%|██████████| 1/1 [00:00<00:00, 37.87it/s]\n",
      "OllamaEmbeddings: 100%|██████████| 1/1 [00:00<00:00, 76.61it/s]\n",
      "OllamaEmbeddings: 100%|██████████| 1/1 [00:00<00:00, 47.53it/s]\n",
      "OllamaEmbeddings: 100%|██████████| 1/1 [00:00<00:00,  1.74it/s]\n",
      "OllamaEmbeddings: 100%|██████████| 1/1 [00:00<00:00, 47.68it/s]\n",
      "OllamaEmbeddings: 100%|██████████| 1/1 [00:00<00:00, 45.50it/s]\n",
      "OllamaEmbeddings: 100%|██████████| 1/1 [00:00<00:00, 46.88it/s]\n",
      "OllamaEmbeddings: 100%|██████████| 1/1 [00:00<00:00, 37.37it/s]\n",
      "OllamaEmbeddings: 100%|██████████| 1/1 [00:00<00:00, 81.91it/s]\n",
      "OllamaEmbeddings: 100%|██████████| 1/1 [00:00<00:00, 44.38it/s]\n"
     ]
    },
    {
     "name": "stdout",
     "output_type": "stream",
     "text": [
      " Giant spiders are a type of large arachnid creature found in the Pathfinder Roleplaying Game. They are often larger and more dangerous versions of their smaller counterparts, with some abilities that make them formidable opponents. Here's some basic information about giant spiders:\n",
      "\n",
      "**Size:** Giant spiders are Large creatures, making them bigger than standard-sized spiders.\n",
      "\n",
      "**Appearance:** Giant spiders have large, hairy bodies and eight long, spindly legs. Their fangs are capable of injecting a potent venom into their prey. They typically have a carapace that ranges in color from brown to black.\n",
      "\n",
      "**Habitat:** Giant spiders can be found in various environments such as forests, deserts, caves, and even urban areas. Some species may prefer specific climates or regions.\n",
      "\n",
      "**Behavior:** Giant spiders are typically solitary creatures but may form small colonies in large webs. They are ambush predators and will lie in wait for hours to catch their prey off guard. Once they sense vibrations, they strike swiftly and mercilessly with their powerful legs and venomous bite.\n",
      "\n",
      "**Abilities:** Giant spiders have various abilities that make them dangerous adversaries. Some of these abilities include:\n",
      "\n",
      "- **Poisonous Bite:** A giant spider's bite is poisonous, dealing damage and potentially incapacitating its prey. The exact nature of the poison varies between species.\n",
      "- **Web Attacks:** Giant spiders can spin webs to trap and immobilize their victims. They may also have the ability to shoot webs at distant targets.\n",
      "- **Camouflage:** Some giant spider species can blend in with their surroundings, making them difficult to spot.\n",
      "- **Swift Movement:** Giant spiders are often quite fast for their size, allowing them to evade attacks or quickly close the distance between themselves and their prey.\n",
      "\n",
      "**Use in Pathfinder:** Giant spiders make for excellent encounters in the Pathfinder Roleplaying Game due to their ability to ambush parties and immobilize characters with their webs. They can be found in various locations such as caves, forests, or urban areas, and may even serve as guards for other creatures or treasure hoards.\n",
      "\n",
      "**Summary:** Giant spiders are a dangerous and intriguing type of creature found in the Pathfinder Roleplaying Game. Their combination of size, speed, poisonous bite, web attacks, and potential camouflage make them formidable opponents that players will remember for quite some time.\n"
     ]
    }
   ],
   "source": [
    "print_result(\"Tell me about giant spiders in pathfinder\", chain)"
   ]
  },
  {
   "cell_type": "code",
   "execution_count": 82,
   "metadata": {},
   "outputs": [],
   "source": [
    "# print_result(\"Tell me about giant spiders in pathfinder?\", chain)"
   ]
  },
  {
   "cell_type": "code",
   "execution_count": 83,
   "metadata": {},
   "outputs": [],
   "source": [
    "# print_result(\"How do you level a wizard in pathfinder?\", chain)"
   ]
  },
  {
   "cell_type": "code",
   "execution_count": 84,
   "metadata": {},
   "outputs": [],
   "source": [
    "# print_result(\"Do you know what a magus is in pathfinder?\", chain)"
   ]
  },
  {
   "cell_type": "code",
   "execution_count": 85,
   "metadata": {},
   "outputs": [],
   "source": [
    "# print_result(\"I have a ranged magus character with ranged spellstrike, what spells do you suggest that I take with my character into battle?\", chain)"
   ]
  },
  {
   "cell_type": "code",
   "execution_count": 86,
   "metadata": {},
   "outputs": [],
   "source": [
    "# print_result(\"What kind of spells should a level 1 cleric and level 10 magus prepare?\", chain)"
   ]
  },
  {
   "cell_type": "code",
   "execution_count": 87,
   "metadata": {},
   "outputs": [],
   "source": [
    "# print_result(\"Describe the spell snowball as a range spell\", chain)\n"
   ]
  },
  {
   "cell_type": "code",
   "execution_count": 88,
   "metadata": {},
   "outputs": [],
   "source": [
    "# print_result(\"What is the advantage to using acid arrow\", chain)"
   ]
  },
  {
   "cell_type": "code",
   "execution_count": 89,
   "metadata": {},
   "outputs": [],
   "source": [
    "# print_result(\"What kind of background should I give my new character in pathfinder?\", chain)"
   ]
  },
  {
   "cell_type": "code",
   "execution_count": 90,
   "metadata": {},
   "outputs": [],
   "source": [
    "# print_result(\"What are some things that could have happened in my early life in pathfinder\", chain)"
   ]
  },
  {
   "cell_type": "code",
   "execution_count": 91,
   "metadata": {},
   "outputs": [],
   "source": [
    "# print_result(\"What are some feats that you recommend for a level 10 megus with a level 1 dip into cleric \", chain)"
   ]
  },
  {
   "cell_type": "code",
   "execution_count": null,
   "metadata": {},
   "outputs": [],
   "source": []
  },
  {
   "cell_type": "code",
   "execution_count": 94,
   "metadata": {},
   "outputs": [],
   "source": [
    "# print_result(\"What are the gods in pathfinder?\", chain)"
   ]
  },
  {
   "cell_type": "code",
   "execution_count": 95,
   "metadata": {},
   "outputs": [],
   "source": [
    "# print_result(\"tell me more about the clerics of Desna\", chain)"
   ]
  },
  {
   "cell_type": "code",
   "execution_count": 96,
   "metadata": {},
   "outputs": [],
   "source": [
    "# print_result(\"What are the less popular gods in pathfinder?\", chain)"
   ]
  },
  {
   "cell_type": "code",
   "execution_count": 97,
   "metadata": {},
   "outputs": [],
   "source": [
    "# print_result(\"What are some gods that use whips as their preferred weapon?\", chain)"
   ]
  },
  {
   "cell_type": "code",
   "execution_count": null,
   "metadata": {},
   "outputs": [],
   "source": []
  }
 ],
 "metadata": {
  "kernelspec": {
   "display_name": "crewai-test-cFVtBBTs-py3.11",
   "language": "python",
   "name": "python3"
  },
  "language_info": {
   "codemirror_mode": {
    "name": "ipython",
    "version": 3
   },
   "file_extension": ".py",
   "mimetype": "text/x-python",
   "name": "python",
   "nbconvert_exporter": "python",
   "pygments_lexer": "ipython3",
   "version": "3.11.4"
  }
 },
 "nbformat": 4,
 "nbformat_minor": 2
}
